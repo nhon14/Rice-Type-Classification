{
  "cells": [
    {
      "cell_type": "markdown",
      "metadata": {
        "id": "view-in-github",
        "colab_type": "text"
      },
      "source": [
        "<a href=\"https://colab.research.google.com/github/nhon14/Rice-Type-Classification/blob/main/RiceTypeClassification.ipynb\" target=\"_parent\"><img src=\"https://colab.research.google.com/assets/colab-badge.svg\" alt=\"Open In Colab\"/></a>"
      ]
    },
    {
      "cell_type": "markdown",
      "metadata": {
        "id": "WAwEsjSLT6a1"
      },
      "source": [
        "Team:\n",
        "        \n",
        "     Nathan Hon"
      ]
    },
    {
      "cell_type": "markdown",
      "metadata": {
        "id": "YZVyVBCU4-Hs"
      },
      "source": [
        "# Business Understanding\n",
        "For this project I have selected a subset of an image dataset containing five different classes of rice. I have used a smaller subset of 5000 images (1000 of each class of rice) due to limitation of RAM as well as for a more manageable processing time due to time constraints. My goal is to use deep learning architecture, convolutional network architectures in this case, to assist with training and predicting the different types of rice. As we will see below, the images are simpler and do not have as much noise in the background, my goal for this project is to show the effectiveness of convolutional neural networks and to compare them against other architectures such as the multiple layer perceptron. The dataset used is \"Rice Image Dataset\" by Murat Koklu, it is found on Kaggle at this link: https://www.kaggle.com/datasets/muratkokludataset/rice-image-dataset/code?datasetId=2049052&sortBy=voteCount\n",
        "\n",
        "This report aims to demonstrate the effectiveness of using CNN architecture which can be further used on more complex data to assist industries such as the agriculture business through deep learning architecture in efficient identification of various product types."
      ]
    },
    {
      "cell_type": "code",
      "execution_count": null,
      "metadata": {
        "id": "gCrSGpjOR_8n"
      },
      "outputs": [],
      "source": [
        "import matplotlib.pyplot as plt\n",
        "import plotly.express as px\n",
        "import plotly.graph_objects as go\n",
        "import seaborn as sns\n",
        "import numpy as np\n",
        "import pandas as pd\n",
        "import random\n",
        "import cv2\n",
        "import os\n",
        "import PIL\n",
        "import pathlib\n",
        "\n",
        "import tensorflow as tf\n",
        "from tensorflow import keras\n",
        "import tensorflow.keras as keras\n",
        "from tensorflow.keras import layers\n",
        "from tensorflow.keras.models import Sequential\n",
        "from keras.callbacks import ModelCheckpoint, EarlyStopping, ReduceLROnPlateau\n",
        "from keras.preprocessing.image import ImageDataGenerator\n",
        "from tensorflow.keras.layers import Reshape\n",
        "from tensorflow.keras.layers import Dense, Dropout, Activation, Flatten\n",
        "from tensorflow.keras.layers import Conv2D, MaxPooling2D\n",
        "\n",
        "from sklearn.utils import shuffle\n",
        "from sklearn.model_selection import train_test_split\n",
        "from sklearn.metrics import classification_report\n",
        "from sklearn.metrics import confusion_matrix"
      ]
    },
    {
      "cell_type": "markdown",
      "metadata": {
        "id": "COBBFHkeUNKv"
      },
      "source": [
        "### Loading and Splitting Dataset"
      ]
    },
    {
      "cell_type": "markdown",
      "metadata": {
        "id": "KhiSLp9456cN"
      },
      "source": [
        "Here we load in the image paths and labels for the dataset. As seen below, the five types of rice we will analyze and predict are Karacadag, Basmati, Jasmine, Arborio, and Ipsala."
      ]
    },
    {
      "cell_type": "code",
      "execution_count": null,
      "metadata": {
        "id": "MxzeGKQKqd3M"
      },
      "outputs": [],
      "source": [
        "unique_labels = ['Arborio', 'Basmati', 'Ipsala', 'Jasmine', 'Karacadag']\n",
        "\n",
        "data_dir = '/content/drive/MyDrive/Rice_Dataset/'\n",
        "\n",
        "all_paths = []\n",
        "all_labels = []\n",
        "\n",
        "for label in unique_labels:\n",
        "    for image_path in os.listdir(data_dir+label):\n",
        "        img = cv2.imread(data_dir+label+'/'+image_path)\n",
        "        img_resize = cv2.resize(img, dsize=(100, 100))\n",
        "        # img_gray = cv2.cvtColor(img_resize, cv2.COLOR_BGR2GRAY)\n",
        "        all_paths.append(img_resize)\n",
        "        if(label == \"Arborio\"):\n",
        "          all_labels.append(1)\n",
        "        elif(label == \"Basmati\"):\n",
        "          all_labels.append(2)\n",
        "        elif(label == \"Ipsala\"):\n",
        "          all_labels.append(3)\n",
        "        elif(label == \"Jasmine\"):\n",
        "          all_labels.append(4)\n",
        "        elif(label == \"Karacadag\"):\n",
        "          all_labels.append(5)\n",
        "\n",
        "# store image paths and labels\n",
        "all_paths, all_labels = shuffle(all_paths, all_labels)"
      ]
    },
    {
      "cell_type": "markdown",
      "metadata": {
        "id": "3R8MPn5R4Pcx"
      },
      "source": [
        "### Choice of Metric: Classification Accuracy\n",
        "As I will explain further below, my dataset contains lower resolution images of individual grains of rice of five different types. Despite lowering the resolution and using a smaller total of 5000 images I was able to attain a high accuracy rate of over 90% on average. However, for this dataset even 70-80% would be sufficient as the risk of wrongly predicting data is relatively low compared to medical datasets that could put people in a life or death situation depending on the prediction results. In this case, as stated above, the use of the results will most likely be sufficient for agricultural business or as a learning tool in academia. However, the risk of misclassifying rice types could have a negative effect financially, so ensuring that accuracy is at least above 70% is important."
      ]
    },
    {
      "cell_type": "code",
      "execution_count": null,
      "metadata": {
        "id": "ljl2G5C6rpHk"
      },
      "outputs": [],
      "source": [
        "X_train, X_test, y_train, y_test = train_test_split(all_paths, all_labels,\n",
        "                                                              test_size=0.2, random_state=42, shuffle = True,\n",
        "                                                              stratify=all_labels)"
      ]
    },
    {
      "cell_type": "markdown",
      "metadata": {
        "id": "4rnsj-LljgLP"
      },
      "source": [
        "### Train, Test, Split\n",
        "\n",
        "\n",
        "*   The dataset used contains images of five different classes of rice as seen in the image below. I first loaded in the images and then stored images in the train and test variables of X and the labels in the train and test variables of y.\n",
        "*   Originally, the dataset contained 50,000 images with 10,000 of each rice type. I cut this down to a total of 5,000 equally split because due to the clarity of the images and the ratio of the 5,000 to 5 classes seemed sufficient to achieve high accuracy with low loss as seen in my model results below.\n",
        "*   As seen in the code block above, I split the training and test 80%/20% and it was sufficient for the results below. I also utilized shuffle in order to randomize data being trained so that it wouldn't be iterating through the exact same data with each epoch. I also used stratify in order to ensure that my data in my training and testing variables represented each rice type equally.\n",
        "*   Lastly, I also had reduced the original number of images due to memory constraints as well as decreasing the image resolution to 100x100. Although this may decrease accuracy, the effects are minimal due to the image set being relatively clear with black backgrounds making it easier for the training models to process.\n",
        "\n"
      ]
    },
    {
      "cell_type": "code",
      "execution_count": null,
      "metadata": {
        "colab": {
          "base_uri": "https://localhost:8080/",
          "height": 218
        },
        "id": "fZkfH-YOOP5L",
        "outputId": "16035cf2-3ba3-4cb8-ce9e-633f083728d0"
      },
      "outputs": [
        {
          "output_type": "execute_result",
          "data": {
            "text/plain": [
              "<matplotlib.image.AxesImage at 0x7ff6cede1df0>"
            ]
          },
          "metadata": {},
          "execution_count": 8
        },
        {
          "output_type": "display_data",
          "data": {
            "text/plain": [
              "<Figure size 1440x360 with 5 Axes>"
            ],
            "image/png": "[encoded data removed]"
          },
          "metadata": {
            "needs_background": "light"
          }
        }
      ],
      "source": [
        "fig, ax = plt.subplots(ncols=5, figsize=(20,5))\n",
        "fig.suptitle('Rice Category')\n",
        "ax[0].set_title('Arborio')\n",
        "ax[1].set_title('Basmati')\n",
        "ax[2].set_title('Ipsala')\n",
        "ax[3].set_title('Jasmine')\n",
        "ax[4].set_title('Karacadag')\n",
        "\n",
        "\n",
        "ax[0].imshow(all_paths[100],cmap='gray')\n",
        "ax[1].imshow(all_paths[1100],cmap='gray')\n",
        "ax[2].imshow(all_paths[2100],cmap='gray')\n",
        "ax[3].imshow(all_paths[3100],cmap='gray')\n",
        "ax[4].imshow(all_paths[4100],cmap='gray')"
      ]
    },
    {
      "cell_type": "code",
      "execution_count": null,
      "metadata": {
        "id": "lFiNDuJOWvzS"
      },
      "outputs": [],
      "source": [
        "del [all_paths, all_labels]"
      ]
    },
    {
      "cell_type": "code",
      "execution_count": null,
      "metadata": {
        "id": "WjnHmQJ6GYDy"
      },
      "outputs": [],
      "source": [
        "X_train = np.array(X_train)\n",
        "X_test = np.array(X_test)"
      ]
    },
    {
      "cell_type": "code",
      "execution_count": null,
      "metadata": {
        "id": "lCdU_FQbDjf3"
      },
      "outputs": [],
      "source": [
        "X_train = X_train/255.0 - 0.5\n",
        "X_test = X_test/255.0 - 0.5"
      ]
    },
    {
      "cell_type": "code",
      "execution_count": null,
      "metadata": {
        "id": "Uo2t9fSPDX4M"
      },
      "outputs": [],
      "source": [
        "y_train_ohe = keras.utils.to_categorical(y_train,6)\n",
        "y_test_ohe = keras.utils.to_categorical(y_test,6)"
      ]
    },
    {
      "cell_type": "code",
      "execution_count": null,
      "metadata": {
        "id": "GlB5x8OMXARd"
      },
      "outputs": [],
      "source": [
        "del [y_test,y_train ]"
      ]
    },
    {
      "cell_type": "markdown",
      "metadata": {
        "id": "zCkbRN4r_qi4"
      },
      "source": [
        "### Data Expansion in Keras\n",
        "Below I used the Keras fit generator as  pre-processing step prior to applying multiple CNNs to my data. As seen below, I am using rotation, width and height shift, as well as horizontal flip. Slightly altering the image data is helpful in my case, whether through rotation, vertical or horizontal shifting or flipping, due to the fact that the images in my dataset having a lot of similar images since each rice type has 1000 images. The images in my dataset also appear to be centered on a black background therefore shifting it a little off center also helps generate new images that could help improve image prediction accuracy."
      ]
    },
    {
      "cell_type": "code",
      "execution_count": null,
      "metadata": {
        "id": "n-5GB5Q1NxdH"
      },
      "outputs": [],
      "source": [
        "datagen = ImageDataGenerator(\n",
        "    featurewise_center=False,\n",
        "    samplewise_center=False,\n",
        "    featurewise_std_normalization=False,\n",
        "    samplewise_std_normalization=False,\n",
        "    zca_whitening=False,\n",
        "    rotation_range=5, # used, Int. Degree range for random rotations.\n",
        "    width_shift_range=0.1, # used, Float (fraction of total width). Range for random horizontal shifts.\n",
        "    height_shift_range=0.1, # used,  Float (fraction of total height). Range for random vertical shifts.\n",
        "    shear_range=0., # Float. Shear Intensity (Shear angle in counter-clockwise direction as radians)\n",
        "    zoom_range=0.,\n",
        "    channel_shift_range=0.,\n",
        "    fill_mode='nearest',\n",
        "    cval=0.,\n",
        "    horizontal_flip=True,\n",
        "    vertical_flip=False,\n",
        "    rescale=None)\n",
        "\n",
        "datagen.fit(X_train)\n",
        "\n",
        "idx = 0"
      ]
    },
    {
      "cell_type": "code",
      "execution_count": null,
      "metadata": {
        "colab": {
          "base_uri": "https://localhost:8080/",
          "height": 323
        },
        "id": "m0mOHm8oNxms",
        "outputId": "121db3ae-9e24-4456-ad24-09884a8f1544"
      },
      "outputs": [
        {
          "output_type": "stream",
          "name": "stderr",
          "text": [
            "WARNING:matplotlib.image:Clipping input data to the valid range for imshow with RGB data ([0..1] for floats or [0..255] for integers).\n"
          ]
        },
        {
          "output_type": "execute_result",
          "data": {
            "text/plain": [
              "<matplotlib.image.AxesImage at 0x7f07072206a0>"
            ]
          },
          "metadata": {},
          "execution_count": 43
        },
        {
          "output_type": "display_data",
          "data": {
            "text/plain": [
              "<Figure size 432x288 with 1 Axes>"
            ],
            "image/png": "[encoded data removed]"
          },
          "metadata": {
            "needs_background": "light"
          }
        }
      ],
      "source": [
        "plt.imshow(X_train[121],cmap=plt.get_cmap('gray'))\n"
      ]
    },
    {
      "cell_type": "markdown",
      "metadata": {
        "id": "7mH5pJ2GH2iV"
      },
      "source": [
        "# Modeling"
      ]
    },
    {
      "cell_type": "markdown",
      "metadata": {
        "id": "UI4UezHaDGfP"
      },
      "source": [
        "## Model 1: Ensemble Nets Variation 1\n",
        "\n",
        "1.   L2 Regularization"
      ]
    },
    {
      "cell_type": "code",
      "execution_count": null,
      "metadata": {
        "colab": {
          "base_uri": "https://localhost:8080/"
        },
        "id": "oIObXiNgQt4t",
        "outputId": "f7bad005-67c1-46fe-df9e-f441aee75723"
      },
      "outputs": [
        {
          "output_type": "stream",
          "name": "stdout",
          "text": [
            "Model: \"model\"\n",
            "__________________________________________________________________________________________________\n",
            " Layer (type)                   Output Shape         Param #     Connected to                     \n",
            "==================================================================================================\n",
            " input_1 (InputLayer)           [(None, 100, 100, 3  0           []                               \n",
            "                                )]                                                                \n",
            "                                                                                                  \n",
            " conv2d (Conv2D)                (None, 100, 100, 32  896         ['input_1[0][0]']                \n",
            "                                )                                                                 \n",
            "                                                                                                  \n",
            " conv2d_1 (Conv2D)              (None, 100, 100, 32  9248        ['conv2d[0][0]']                 \n",
            "                                )                                                                 \n",
            "                                                                                                  \n",
            " max_pooling2d (MaxPooling2D)   (None, 50, 50, 32)   0           ['conv2d_1[0][0]']               \n",
            "                                                                                                  \n",
            " conv2d_2 (Conv2D)              (None, 50, 50, 32)   9248        ['max_pooling2d[0][0]']          \n",
            "                                                                                                  \n",
            " conv2d_6 (Conv2D)              (None, 50, 50, 32)   9248        ['max_pooling2d[0][0]']          \n",
            "                                                                                                  \n",
            " conv2d_10 (Conv2D)             (None, 50, 50, 32)   9248        ['max_pooling2d[0][0]']          \n",
            "                                                                                                  \n",
            " conv2d_3 (Conv2D)              (None, 50, 50, 32)   1056        ['conv2d_2[0][0]']               \n",
            "                                                                                                  \n",
            " conv2d_7 (Conv2D)              (None, 50, 50, 32)   1056        ['conv2d_6[0][0]']               \n",
            "                                                                                                  \n",
            " conv2d_11 (Conv2D)             (None, 50, 50, 32)   1056        ['conv2d_10[0][0]']              \n",
            "                                                                                                  \n",
            " max_pooling2d_1 (MaxPooling2D)  (None, 25, 25, 32)  0           ['conv2d_3[0][0]']               \n",
            "                                                                                                  \n",
            " max_pooling2d_3 (MaxPooling2D)  (None, 25, 25, 32)  0           ['conv2d_7[0][0]']               \n",
            "                                                                                                  \n",
            " max_pooling2d_5 (MaxPooling2D)  (None, 25, 25, 32)  0           ['conv2d_11[0][0]']              \n",
            "                                                                                                  \n",
            " conv2d_4 (Conv2D)              (None, 25, 25, 64)   18496       ['max_pooling2d_1[0][0]']        \n",
            "                                                                                                  \n",
            " conv2d_8 (Conv2D)              (None, 25, 25, 64)   18496       ['max_pooling2d_3[0][0]']        \n",
            "                                                                                                  \n",
            " conv2d_12 (Conv2D)             (None, 25, 25, 64)   18496       ['max_pooling2d_5[0][0]']        \n",
            "                                                                                                  \n",
            " conv2d_5 (Conv2D)              (None, 25, 25, 64)   4160        ['conv2d_4[0][0]']               \n",
            "                                                                                                  \n",
            " conv2d_9 (Conv2D)              (None, 25, 25, 64)   4160        ['conv2d_8[0][0]']               \n",
            "                                                                                                  \n",
            " conv2d_13 (Conv2D)             (None, 25, 25, 64)   4160        ['conv2d_12[0][0]']              \n",
            "                                                                                                  \n",
            " max_pooling2d_2 (MaxPooling2D)  (None, 12, 12, 64)  0           ['conv2d_5[0][0]']               \n",
            "                                                                                                  \n",
            " max_pooling2d_4 (MaxPooling2D)  (None, 12, 12, 64)  0           ['conv2d_9[0][0]']               \n",
            "                                                                                                  \n",
            " max_pooling2d_6 (MaxPooling2D)  (None, 12, 12, 64)  0           ['conv2d_13[0][0]']              \n",
            "                                                                                                  \n",
            " flatten (Flatten)              (None, 9216)         0           ['max_pooling2d_2[0][0]']        \n",
            "                                                                                                  \n",
            " flatten_1 (Flatten)            (None, 9216)         0           ['max_pooling2d_4[0][0]']        \n",
            "                                                                                                  \n",
            " flatten_2 (Flatten)            (None, 9216)         0           ['max_pooling2d_6[0][0]']        \n",
            "                                                                                                  \n",
            " dropout (Dropout)              (None, 9216)         0           ['flatten[0][0]']                \n",
            "                                                                                                  \n",
            " dropout_1 (Dropout)            (None, 9216)         0           ['flatten_1[0][0]']              \n",
            "                                                                                                  \n",
            " dropout_2 (Dropout)            (None, 9216)         0           ['flatten_2[0][0]']              \n",
            "                                                                                                  \n",
            " dense (Dense)                  (None, 64)           589888      ['dropout[0][0]']                \n",
            "                                                                                                  \n",
            " dense_2 (Dense)                (None, 64)           589888      ['dropout_1[0][0]']              \n",
            "                                                                                                  \n",
            " dense_4 (Dense)                (None, 64)           589888      ['dropout_2[0][0]']              \n",
            "                                                                                                  \n",
            " dense_1 (Dense)                (None, 6)            390         ['dense[0][0]']                  \n",
            "                                                                                                  \n",
            " dense_3 (Dense)                (None, 6)            390         ['dense_2[0][0]']                \n",
            "                                                                                                  \n",
            " dense_5 (Dense)                (None, 6)            390         ['dense_4[0][0]']                \n",
            "                                                                                                  \n",
            " concatenate (Concatenate)      (None, 18)           0           ['dense_1[0][0]',                \n",
            "                                                                  'dense_3[0][0]',                \n",
            "                                                                  'dense_5[0][0]']                \n",
            "                                                                                                  \n",
            " dense_6 (Dense)                (None, 6)            114         ['concatenate[0][0]']            \n",
            "                                                                                                  \n",
            "==================================================================================================\n",
            "Total params: 1,879,972\n",
            "Trainable params: 1,879,972\n",
            "Non-trainable params: 0\n",
            "__________________________________________________________________________________________________\n",
            "CPU times: user 367 ms, sys: 24.5 ms, total: 392 ms\n",
            "Wall time: 545 ms\n"
          ]
        }
      ],
      "source": [
        "%%time\n",
        "\n",
        "img_wh = 100\n",
        "NUM_CLASSES = 6\n",
        "\n",
        "from tensorflow.keras.layers import Input, average, concatenate\n",
        "from tensorflow.keras.models import Model\n",
        "\n",
        "num_ensembles = 3\n",
        "l2_lambda = 0.000001\n",
        "#l1 for second variation\n",
        "#replace    kernel_regularizer=keras.regularizers.l2(l2_lambda),\n",
        "#with this:\n",
        "# kernel_regularizer=keras.regularizers.l1_l2(l1_lambda, l2_lambda)\n",
        "# l1_lambda = 0.00001\n",
        "\n",
        "\n",
        "input_holder = Input(shape=(img_wh, img_wh, 3))\n",
        "\n",
        "# start with a conv layer\n",
        "x = Conv2D(filters=32,\n",
        "               input_shape = (img_wh,img_wh,3),\n",
        "               kernel_size=(3,3),\n",
        "               kernel_initializer='he_uniform', \n",
        "               kernel_regularizer=keras.regularizers.l2(l2_lambda),\n",
        "               padding='same', \n",
        "               activation='relu', data_format=\"channels_last\")(input_holder)\n",
        "\n",
        "x = Conv2D(filters=32,\n",
        "               kernel_size=(3,3),\n",
        "               kernel_initializer='he_uniform', \n",
        "               kernel_regularizer=keras.regularizers.l2(l2_lambda),\n",
        "               padding='same', \n",
        "               activation='relu')(x)\n",
        "input_conv = MaxPooling2D(pool_size=(2, 2), data_format=\"channels_last\")(x)\n",
        "\n",
        "branches = []\n",
        "for _ in range(num_ensembles):\n",
        "    \n",
        "    # start using NiN (MLPConv)\n",
        "    x = Conv2D(filters=32,\n",
        "                   input_shape = (img_wh,img_wh,3),\n",
        "                   kernel_size=(3,3),\n",
        "                   kernel_initializer='he_uniform', \n",
        "                   kernel_regularizer=keras.regularizers.l2(l2_lambda),\n",
        "                   padding='same', \n",
        "                   activation='linear', data_format=\"channels_last\")(input_conv)\n",
        "\n",
        "    x = Conv2D(filters=32,\n",
        "                   kernel_size=(1,1),\n",
        "                   kernel_initializer='he_uniform', \n",
        "                   kernel_regularizer=keras.regularizers.l2(l2_lambda),\n",
        "                   padding='same', \n",
        "                   activation='relu', data_format=\"channels_last\")(x)\n",
        "    \n",
        "    x = MaxPooling2D(pool_size=(2, 2), data_format=\"channels_last\")(x)\n",
        "    \n",
        "    x = Conv2D(filters=64,\n",
        "                   input_shape = (img_wh,img_wh,3),\n",
        "                   kernel_size=(3,3),\n",
        "                   kernel_initializer='he_uniform', \n",
        "                   kernel_regularizer=keras.regularizers.l2(l2_lambda),\n",
        "                   padding='same', \n",
        "                   activation='linear', data_format=\"channels_last\")(x)\n",
        "\n",
        "    x = Conv2D(filters=64,\n",
        "                   kernel_size=(1,1),\n",
        "                   kernel_initializer='he_uniform', \n",
        "                   kernel_regularizer=keras.regularizers.l2(l2_lambda),\n",
        "                   padding='same', \n",
        "                   activation='linear', data_format=\"channels_last\")(x)\n",
        "    \n",
        "    x = MaxPooling2D(pool_size=(2, 2), data_format=\"channels_last\")(x)\n",
        "\n",
        "    # add one layer on flattened output\n",
        "    x = Flatten()(x)\n",
        "    x = Dropout(0.50)(x) # add some dropout for regularization after conv layers\n",
        "    x = Dense(64, \n",
        "              activation='relu',\n",
        "              kernel_initializer='he_uniform',\n",
        "              kernel_regularizer=keras.regularizers.l2(l2_lambda)\n",
        "            )(x)\n",
        "    \n",
        "    x = Dense(NUM_CLASSES, \n",
        "              activation='relu',\n",
        "              kernel_initializer='he_uniform',\n",
        "              kernel_regularizer=keras.regularizers.l2(l2_lambda)\n",
        "             )(x)\n",
        "    \n",
        "    # now add this branch onto the master list\n",
        "    branches.append(x)\n",
        "\n",
        "# that's it, we just need to average the results\n",
        "x = concatenate(branches)\n",
        "\n",
        "x = Dense(NUM_CLASSES, \n",
        "          activation='softmax', \n",
        "          kernel_initializer='glorot_uniform',\n",
        "          kernel_regularizer=keras.regularizers.l2(l2_lambda)\n",
        "         )(x)\n",
        "\n",
        "# here is the secret sauce for setting the network using the \n",
        "#   Functional API:\n",
        "cnn_ens = Model(inputs=input_holder,outputs=x)\n",
        "\n",
        "cnn_ens.summary()"
      ]
    },
    {
      "cell_type": "code",
      "execution_count": null,
      "metadata": {
        "id": "HbqlGVGvRcSj"
      },
      "outputs": [],
      "source": [
        "# Let's train the model \n",
        "cnn_ens.compile(loss='categorical_crossentropy', # 'categorical_crossentropy' 'mean_squared_error'\n",
        "                optimizer='adam', # 'adadelta' 'rmsprop'\n",
        "                metrics=['accuracy'])"
      ]
    },
    {
      "cell_type": "code",
      "execution_count": null,
      "metadata": {
        "colab": {
          "base_uri": "https://localhost:8080/"
        },
        "id": "BhBQHcwSRcYe",
        "outputId": "38f7560a-4c07-4758-b5f1-bf3a5add9c37"
      },
      "outputs": [
        {
          "output_type": "stream",
          "name": "stderr",
          "text": [
            "<timed exec>:2: UserWarning: `Model.fit_generator` is deprecated and will be removed in a future version. Please use `Model.fit`, which supports generators.\n"
          ]
        },
        {
          "output_type": "stream",
          "name": "stdout",
          "text": [
            "Epoch 1/50\n",
            "31/31 [==============================] - 222s 7s/step - loss: 1.8765 - accuracy: 0.3595 - val_loss: 1.2000 - val_accuracy: 0.5430\n",
            "Epoch 2/50\n",
            "31/31 [==============================] - 221s 7s/step - loss: 1.0227 - accuracy: 0.6126 - val_loss: 0.7758 - val_accuracy: 0.6830\n",
            "Epoch 3/50\n",
            "31/31 [==============================] - 224s 7s/step - loss: 0.6993 - accuracy: 0.7265 - val_loss: 0.5045 - val_accuracy: 0.7730\n",
            "Epoch 4/50\n",
            "31/31 [==============================] - 220s 7s/step - loss: 0.5085 - accuracy: 0.7629 - val_loss: 0.4139 - val_accuracy: 0.7810\n",
            "Epoch 5/50\n",
            "31/31 [==============================] - 228s 7s/step - loss: 0.4457 - accuracy: 0.7895 - val_loss: 0.2833 - val_accuracy: 0.8570\n",
            "Epoch 6/50\n",
            "31/31 [==============================] - 222s 7s/step - loss: 0.3010 - accuracy: 0.9008 - val_loss: 0.1770 - val_accuracy: 0.9360\n",
            "Epoch 7/50\n",
            "31/31 [==============================] - 225s 7s/step - loss: 0.3303 - accuracy: 0.8982 - val_loss: 0.2132 - val_accuracy: 0.9330\n",
            "Epoch 8/50\n",
            "31/31 [==============================] - 221s 7s/step - loss: 0.2788 - accuracy: 0.9145 - val_loss: 0.1683 - val_accuracy: 0.9620\n",
            "Epoch 9/50\n",
            "31/31 [==============================] - 222s 7s/step - loss: 0.1986 - accuracy: 0.9383 - val_loss: 0.0766 - val_accuracy: 0.9830\n",
            "Epoch 10/50\n",
            "31/31 [==============================] - 226s 7s/step - loss: 0.1589 - accuracy: 0.9576 - val_loss: 0.2649 - val_accuracy: 0.9240\n",
            "Epoch 11/50\n",
            "31/31 [==============================] - 221s 7s/step - loss: 0.1833 - accuracy: 0.9403 - val_loss: 0.0589 - val_accuracy: 0.9830\n",
            "Epoch 12/50\n",
            "31/31 [==============================] - 226s 7s/step - loss: 0.1112 - accuracy: 0.9682 - val_loss: 0.0469 - val_accuracy: 0.9840\n",
            "Epoch 13/50\n",
            "31/31 [==============================] - 221s 7s/step - loss: 0.1016 - accuracy: 0.9706 - val_loss: 0.0282 - val_accuracy: 0.9950\n",
            "Epoch 14/50\n",
            "31/31 [==============================] - 225s 7s/step - loss: 0.0632 - accuracy: 0.9822 - val_loss: 0.0224 - val_accuracy: 0.9950\n",
            "Epoch 15/50\n",
            "31/31 [==============================] - 220s 7s/step - loss: 0.0740 - accuracy: 0.9793 - val_loss: 0.0217 - val_accuracy: 0.9950\n",
            "Epoch 16/50\n",
            "31/31 [==============================] - 225s 7s/step - loss: 0.0588 - accuracy: 0.9835 - val_loss: 0.0190 - val_accuracy: 0.9980\n",
            "Epoch 17/50\n",
            "31/31 [==============================] - 223s 7s/step - loss: 0.0483 - accuracy: 0.9866 - val_loss: 0.0247 - val_accuracy: 0.9910\n",
            "Epoch 18/50\n",
            "31/31 [==============================] - 223s 7s/step - loss: 0.0683 - accuracy: 0.9811 - val_loss: 0.0388 - val_accuracy: 0.9880\n",
            "Epoch 19/50\n",
            "31/31 [==============================] - 224s 7s/step - loss: 0.0526 - accuracy: 0.9824 - val_loss: 0.0354 - val_accuracy: 0.9890\n",
            "Epoch 20/50\n",
            "31/31 [==============================] - 224s 7s/step - loss: 0.0516 - accuracy: 0.9837 - val_loss: 0.1361 - val_accuracy: 0.9530\n",
            "CPU times: user 2h 20min 12s, sys: 1min 59s, total: 2h 22min 12s\n",
            "Wall time: 1h 20min 10s\n"
          ]
        }
      ],
      "source": [
        "%%time\n",
        "# the flow method yields batches of images indefinitely, with the given transformations\n",
        "cnn1_history = cnn_ens.fit_generator(datagen.flow(X_train, y_train_ohe, batch_size=128), \n",
        "                      steps_per_epoch=int(len(X_train)/128), # how many generators to go through per epoch\n",
        "                      epochs=50, verbose=1,\n",
        "                      validation_data=(X_test,y_test_ohe),\n",
        "                      callbacks=[EarlyStopping(monitor='val_loss', patience=4, min_delta=0.0001)])"
      ]
    },
    {
      "cell_type": "code",
      "execution_count": null,
      "metadata": {
        "id": "Pxnzu-7HzE_N"
      },
      "outputs": [],
      "source": [
        "del[cnn_ens]"
      ]
    },
    {
      "cell_type": "code",
      "execution_count": null,
      "metadata": {
        "colab": {
          "base_uri": "https://localhost:8080/",
          "height": 590
        },
        "id": "uMZksnM1nvL-",
        "outputId": "e7a032ed-76c9-4906-bc8a-5b7aada34dc4"
      },
      "outputs": [
        {
          "output_type": "display_data",
          "data": {
            "text/plain": [
              "<Figure size 432x288 with 1 Axes>"
            ],
            "image/png": "[encoded data removed]"
          },
          "metadata": {
            "needs_background": "light"
          }
        },
        {
          "output_type": "stream",
          "name": "stdout",
          "text": [
            "\n"
          ]
        },
        {
          "output_type": "display_data",
          "data": {
            "text/plain": [
              "<Figure size 432x288 with 1 Axes>"
            ],
            "image/png": "[encoded data removed]"
          },
          "metadata": {
            "needs_background": "light"
          }
        }
      ],
      "source": [
        "cnn1_history.history\n",
        "plt.plot(cnn1_history.history[\"accuracy\"])\n",
        "plt.plot(cnn1_history.history[\"val_accuracy\"])\n",
        "plt.xlabel('epoch') \n",
        "plt.ylabel('accuracy') \n",
        "plt.title('CNN Ensemble 1 Accuracy')\n",
        "ax = plt.gca()\n",
        "ax.legend(['training accuracy', 'test accuracy'])\n",
        "plt.show()\n",
        "print()\n",
        "#-----------------------------------------\n",
        "plt.plot(cnn1_history.history[\"loss\"])\n",
        "plt.plot(cnn1_history.history[\"val_loss\"])\n",
        "plt.xlabel('epoch') \n",
        "plt.ylabel('accuracy') \n",
        "plt.title('CNN Ensemble 1 Loss')\n",
        "ax = plt.gca()\n",
        "ax.legend(['training loss', 'test loss'])\n",
        "plt.show()"
      ]
    },
    {
      "cell_type": "markdown",
      "metadata": {
        "id": "fYykGemSS5R3"
      },
      "source": [
        "## Model 2: Ensemble Nets Variation 2\n",
        "\n",
        "1.   L1 Regularization\n",
        "\n"
      ]
    },
    {
      "cell_type": "code",
      "execution_count": null,
      "metadata": {
        "colab": {
          "base_uri": "https://localhost:8080/"
        },
        "id": "k_GiG7Kih85e",
        "outputId": "a73c2eee-6b89-4698-8374-797a89803f7c"
      },
      "outputs": [
        {
          "output_type": "stream",
          "name": "stdout",
          "text": [
            "Model: \"model\"\n",
            "__________________________________________________________________________________________________\n",
            " Layer (type)                   Output Shape         Param #     Connected to                     \n",
            "==================================================================================================\n",
            " input_1 (InputLayer)           [(None, 100, 100, 3  0           []                               \n",
            "                                )]                                                                \n",
            "                                                                                                  \n",
            " conv2d (Conv2D)                (None, 100, 100, 32  896         ['input_1[0][0]']                \n",
            "                                )                                                                 \n",
            "                                                                                                  \n",
            " conv2d_1 (Conv2D)              (None, 100, 100, 32  9248        ['conv2d[0][0]']                 \n",
            "                                )                                                                 \n",
            "                                                                                                  \n",
            " max_pooling2d (MaxPooling2D)   (None, 50, 50, 32)   0           ['conv2d_1[0][0]']               \n",
            "                                                                                                  \n",
            " conv2d_2 (Conv2D)              (None, 50, 50, 32)   9248        ['max_pooling2d[0][0]']          \n",
            "                                                                                                  \n",
            " conv2d_6 (Conv2D)              (None, 50, 50, 32)   9248        ['max_pooling2d[0][0]']          \n",
            "                                                                                                  \n",
            " conv2d_10 (Conv2D)             (None, 50, 50, 32)   9248        ['max_pooling2d[0][0]']          \n",
            "                                                                                                  \n",
            " conv2d_3 (Conv2D)              (None, 50, 50, 32)   1056        ['conv2d_2[0][0]']               \n",
            "                                                                                                  \n",
            " conv2d_7 (Conv2D)              (None, 50, 50, 32)   1056        ['conv2d_6[0][0]']               \n",
            "                                                                                                  \n",
            " conv2d_11 (Conv2D)             (None, 50, 50, 32)   1056        ['conv2d_10[0][0]']              \n",
            "                                                                                                  \n",
            " max_pooling2d_1 (MaxPooling2D)  (None, 25, 25, 32)  0           ['conv2d_3[0][0]']               \n",
            "                                                                                                  \n",
            " max_pooling2d_3 (MaxPooling2D)  (None, 25, 25, 32)  0           ['conv2d_7[0][0]']               \n",
            "                                                                                                  \n",
            " max_pooling2d_5 (MaxPooling2D)  (None, 25, 25, 32)  0           ['conv2d_11[0][0]']              \n",
            "                                                                                                  \n",
            " conv2d_4 (Conv2D)              (None, 25, 25, 64)   18496       ['max_pooling2d_1[0][0]']        \n",
            "                                                                                                  \n",
            " conv2d_8 (Conv2D)              (None, 25, 25, 64)   18496       ['max_pooling2d_3[0][0]']        \n",
            "                                                                                                  \n",
            " conv2d_12 (Conv2D)             (None, 25, 25, 64)   18496       ['max_pooling2d_5[0][0]']        \n",
            "                                                                                                  \n",
            " conv2d_5 (Conv2D)              (None, 25, 25, 64)   4160        ['conv2d_4[0][0]']               \n",
            "                                                                                                  \n",
            " conv2d_9 (Conv2D)              (None, 25, 25, 64)   4160        ['conv2d_8[0][0]']               \n",
            "                                                                                                  \n",
            " conv2d_13 (Conv2D)             (None, 25, 25, 64)   4160        ['conv2d_12[0][0]']              \n",
            "                                                                                                  \n",
            " max_pooling2d_2 (MaxPooling2D)  (None, 12, 12, 64)  0           ['conv2d_5[0][0]']               \n",
            "                                                                                                  \n",
            " max_pooling2d_4 (MaxPooling2D)  (None, 12, 12, 64)  0           ['conv2d_9[0][0]']               \n",
            "                                                                                                  \n",
            " max_pooling2d_6 (MaxPooling2D)  (None, 12, 12, 64)  0           ['conv2d_13[0][0]']              \n",
            "                                                                                                  \n",
            " flatten (Flatten)              (None, 9216)         0           ['max_pooling2d_2[0][0]']        \n",
            "                                                                                                  \n",
            " flatten_1 (Flatten)            (None, 9216)         0           ['max_pooling2d_4[0][0]']        \n",
            "                                                                                                  \n",
            " flatten_2 (Flatten)            (None, 9216)         0           ['max_pooling2d_6[0][0]']        \n",
            "                                                                                                  \n",
            " dropout (Dropout)              (None, 9216)         0           ['flatten[0][0]']                \n",
            "                                                                                                  \n",
            " dropout_1 (Dropout)            (None, 9216)         0           ['flatten_1[0][0]']              \n",
            "                                                                                                  \n",
            " dropout_2 (Dropout)            (None, 9216)         0           ['flatten_2[0][0]']              \n",
            "                                                                                                  \n",
            " dense (Dense)                  (None, 64)           589888      ['dropout[0][0]']                \n",
            "                                                                                                  \n",
            " dense_2 (Dense)                (None, 64)           589888      ['dropout_1[0][0]']              \n",
            "                                                                                                  \n",
            " dense_4 (Dense)                (None, 64)           589888      ['dropout_2[0][0]']              \n",
            "                                                                                                  \n",
            " dense_1 (Dense)                (None, 6)            390         ['dense[0][0]']                  \n",
            "                                                                                                  \n",
            " dense_3 (Dense)                (None, 6)            390         ['dense_2[0][0]']                \n",
            "                                                                                                  \n",
            " dense_5 (Dense)                (None, 6)            390         ['dense_4[0][0]']                \n",
            "                                                                                                  \n",
            " concatenate (Concatenate)      (None, 18)           0           ['dense_1[0][0]',                \n",
            "                                                                  'dense_3[0][0]',                \n",
            "                                                                  'dense_5[0][0]']                \n",
            "                                                                                                  \n",
            " dense_6 (Dense)                (None, 6)            114         ['concatenate[0][0]']            \n",
            "                                                                                                  \n",
            "==================================================================================================\n",
            "Total params: 1,879,972\n",
            "Trainable params: 1,879,972\n",
            "Non-trainable params: 0\n",
            "__________________________________________________________________________________________________\n",
            "CPU times: user 414 ms, sys: 38 ms, total: 452 ms\n",
            "Wall time: 639 ms\n"
          ]
        }
      ],
      "source": [
        "%%time\n",
        "\n",
        "from tensorflow.keras.layers import Input, average, concatenate\n",
        "from tensorflow.keras.models import Model\n",
        "\n",
        "img_wh = 100\n",
        "NUM_CLASSES = 6\n",
        "\n",
        "num_ensembles = 3\n",
        "l2_lambda = 0.000001\n",
        "#l1 for second variation\n",
        "#replace    kernel_regularizer=keras.regularizers.l2(l2_lambda),\n",
        "#with this:\n",
        "# kernel_regularizer=keras.regularizers.l1_l2(l1_lambda, l2_lambda)\n",
        "l1_lambda = 0.00001\n",
        "\n",
        "\n",
        "input_holder = Input(shape=(img_wh, img_wh, 3))\n",
        "\n",
        "# start with a conv layer\n",
        "x = Conv2D(filters=32,\n",
        "               input_shape = (img_wh,img_wh,3),\n",
        "               kernel_size=(3,3),\n",
        "               kernel_initializer='he_uniform', \n",
        "               kernel_regularizer=keras.regularizers.l1(l1_lambda),\n",
        "               padding='same', \n",
        "               activation='relu', data_format=\"channels_last\")(input_holder)\n",
        "\n",
        "x = Conv2D(filters=32,\n",
        "               kernel_size=(3,3),\n",
        "               kernel_initializer='he_uniform', \n",
        "               kernel_regularizer=keras.regularizers.l1(l1_lambda),\n",
        "               padding='same', \n",
        "               activation='relu')(x)\n",
        "input_conv = MaxPooling2D(pool_size=(2, 2), data_format=\"channels_last\")(x)\n",
        "\n",
        "branches = []\n",
        "for _ in range(num_ensembles):\n",
        "    \n",
        "    # start using NiN (MLPConv)\n",
        "    x = Conv2D(filters=32,\n",
        "                   input_shape = (img_wh,img_wh,3),\n",
        "                   kernel_size=(3,3),\n",
        "                   kernel_initializer='he_uniform', \n",
        "                   kernel_regularizer=keras.regularizers.l1(l1_lambda),\n",
        "                   padding='same', \n",
        "                   activation='linear', data_format=\"channels_last\")(input_conv)\n",
        "\n",
        "    x = Conv2D(filters=32,\n",
        "                   kernel_size=(1,1),\n",
        "                   kernel_initializer='he_uniform', \n",
        "                   kernel_regularizer=keras.regularizers.l1(l1_lambda),\n",
        "                   padding='same', \n",
        "                   activation='relu', data_format=\"channels_last\")(x)\n",
        "    \n",
        "    x = MaxPooling2D(pool_size=(2, 2), data_format=\"channels_last\")(x)\n",
        "    \n",
        "    x = Conv2D(filters=64,\n",
        "                   input_shape = (img_wh,img_wh,3),\n",
        "                   kernel_size=(3,3),\n",
        "                   kernel_initializer='he_uniform', \n",
        "                   kernel_regularizer=keras.regularizers.l1(l1_lambda),\n",
        "                   padding='same', \n",
        "                   activation='linear', data_format=\"channels_last\")(x)\n",
        "\n",
        "    x = Conv2D(filters=64,\n",
        "                   kernel_size=(1,1),\n",
        "                   kernel_initializer='he_uniform', \n",
        "                   kernel_regularizer=keras.regularizers.l1(l1_lambda),\n",
        "                   padding='same', \n",
        "                   activation='linear', data_format=\"channels_last\")(x)\n",
        "    \n",
        "    x = MaxPooling2D(pool_size=(2, 2), data_format=\"channels_last\")(x)\n",
        "\n",
        "    # add one layer on flattened output\n",
        "    x = Flatten()(x)\n",
        "    x = Dropout(0.50)(x) # add some dropout for regularization after conv layers\n",
        "    x = Dense(64, \n",
        "              activation='relu',\n",
        "              kernel_initializer='he_uniform',\n",
        "              kernel_regularizer=keras.regularizers.l1(l1_lambda)\n",
        "            )(x)\n",
        "    \n",
        "    x = Dense(NUM_CLASSES, \n",
        "              activation='relu',\n",
        "              kernel_initializer='he_uniform',\n",
        "              kernel_regularizer=keras.regularizers.l1(l1_lambda)\n",
        "             )(x)\n",
        "    \n",
        "    # now add this branch onto the master list\n",
        "    branches.append(x)\n",
        "\n",
        "# that's it, we just need to average the results\n",
        "x = concatenate(branches)\n",
        "\n",
        "x = Dense(NUM_CLASSES, \n",
        "          activation='softmax', \n",
        "          kernel_initializer='glorot_uniform',\n",
        "          kernel_regularizer=keras.regularizers.l1(l1_lambda)\n",
        "         )(x)\n",
        "\n",
        "# here is the secret sauce for setting the network using the \n",
        "#   Functional API:\n",
        "cnn_ens2 = Model(inputs=input_holder,outputs=x)\n",
        "\n",
        "cnn_ens2.summary()"
      ]
    },
    {
      "cell_type": "code",
      "execution_count": null,
      "metadata": {
        "id": "8Q73r31SjsYY"
      },
      "outputs": [],
      "source": [
        "# Let's train the model \n",
        "cnn_ens2.compile(loss='categorical_crossentropy', # 'categorical_crossentropy' 'mean_squared_error'\n",
        "                optimizer='adam', # 'adadelta' 'rmsprop'\n",
        "                metrics=['accuracy'])"
      ]
    },
    {
      "cell_type": "code",
      "execution_count": null,
      "metadata": {
        "colab": {
          "base_uri": "https://localhost:8080/"
        },
        "id": "1SuTUAxnj_5p",
        "outputId": "28154e54-7179-4ffb-c701-f07590171879"
      },
      "outputs": [
        {
          "output_type": "stream",
          "name": "stderr",
          "text": [
            "<timed exec>:2: UserWarning: `Model.fit_generator` is deprecated and will be removed in a future version. Please use `Model.fit`, which supports generators.\n"
          ]
        },
        {
          "output_type": "stream",
          "name": "stdout",
          "text": [
            "Epoch 1/50\n",
            "31/31 [==============================] - 249s 8s/step - loss: 2.1772 - accuracy: 0.4773 - val_loss: 0.8551 - val_accuracy: 0.7570\n",
            "Epoch 2/50\n",
            "31/31 [==============================] - 246s 8s/step - loss: 0.8153 - accuracy: 0.8120 - val_loss: 0.7732 - val_accuracy: 0.8030\n",
            "Epoch 3/50\n",
            "31/31 [==============================] - 247s 8s/step - loss: 0.6291 - accuracy: 0.8884 - val_loss: 0.4760 - val_accuracy: 0.9460\n",
            "Epoch 4/50\n",
            "31/31 [==============================] - 245s 8s/step - loss: 0.4812 - accuracy: 0.9463 - val_loss: 0.4106 - val_accuracy: 0.9720\n",
            "Epoch 5/50\n",
            "31/31 [==============================] - 245s 8s/step - loss: 0.4570 - accuracy: 0.9522 - val_loss: 0.4098 - val_accuracy: 0.9690\n",
            "Epoch 6/50\n",
            "31/31 [==============================] - 243s 8s/step - loss: 0.4442 - accuracy: 0.9509 - val_loss: 0.3958 - val_accuracy: 0.9680\n",
            "Epoch 7/50\n",
            "31/31 [==============================] - 245s 8s/step - loss: 0.4186 - accuracy: 0.9576 - val_loss: 0.4030 - val_accuracy: 0.9600\n",
            "Epoch 8/50\n",
            "31/31 [==============================] - 244s 8s/step - loss: 0.5156 - accuracy: 0.9272 - val_loss: 0.3793 - val_accuracy: 0.9740\n",
            "Epoch 9/50\n",
            "31/31 [==============================] - 250s 8s/step - loss: 0.4018 - accuracy: 0.9623 - val_loss: 0.3418 - val_accuracy: 0.9810\n",
            "Epoch 10/50\n",
            "31/31 [==============================] - 263s 8s/step - loss: 0.3650 - accuracy: 0.9713 - val_loss: 0.3821 - val_accuracy: 0.9630\n",
            "Epoch 11/50\n",
            "31/31 [==============================] - 255s 8s/step - loss: 0.3524 - accuracy: 0.9742 - val_loss: 0.3116 - val_accuracy: 0.9840\n",
            "Epoch 12/50\n",
            "31/31 [==============================] - 258s 8s/step - loss: 0.3338 - accuracy: 0.9791 - val_loss: 0.3075 - val_accuracy: 0.9840\n",
            "Epoch 13/50\n",
            "31/31 [==============================] - 262s 8s/step - loss: 0.3189 - accuracy: 0.9811 - val_loss: 0.3334 - val_accuracy: 0.9740\n",
            "Epoch 14/50\n",
            "31/31 [==============================] - 265s 9s/step - loss: 0.3241 - accuracy: 0.9778 - val_loss: 0.4482 - val_accuracy: 0.9480\n",
            "Epoch 15/50\n",
            "31/31 [==============================] - 267s 9s/step - loss: 0.3636 - accuracy: 0.9680 - val_loss: 0.3139 - val_accuracy: 0.9800\n",
            "Epoch 16/50\n",
            "31/31 [==============================] - 259s 8s/step - loss: 0.3285 - accuracy: 0.9742 - val_loss: 0.3451 - val_accuracy: 0.9760\n",
            "CPU times: user 1h 58min 1s, sys: 1min 55s, total: 1h 59min 57s\n",
            "Wall time: 1h 10min 38s\n"
          ]
        }
      ],
      "source": [
        "%%time\n",
        "# the flow method yields batches of images indefinitely, with the given transformations\n",
        "cnn2_history = cnn_ens2.fit_generator(datagen.flow(X_train, y_train_ohe, batch_size=128), \n",
        "                      steps_per_epoch=int(len(X_train)/128), # how many generators to go through per epoch\n",
        "                      epochs=50, verbose=1,\n",
        "                      validation_data=(X_test,y_test_ohe),\n",
        "                      callbacks=[EarlyStopping(monitor='val_loss', patience=4, min_delta=0.0001)])"
      ]
    },
    {
      "cell_type": "code",
      "execution_count": null,
      "metadata": {
        "colab": {
          "base_uri": "https://localhost:8080/",
          "height": 590
        },
        "id": "7TPcwSs6kdUz",
        "outputId": "dc691fca-a21c-4e36-f4c5-50f77072d6c8"
      },
      "outputs": [
        {
          "output_type": "display_data",
          "data": {
            "text/plain": [
              "<Figure size 432x288 with 1 Axes>"
            ],
            "image/png": "[encoded data removed]"
          },
          "metadata": {
            "needs_background": "light"
          }
        },
        {
          "output_type": "stream",
          "name": "stdout",
          "text": [
            "\n"
          ]
        },
        {
          "output_type": "display_data",
          "data": {
            "text/plain": [
              "<Figure size 432x288 with 1 Axes>"
            ],
            "image/png": "[encoded data removed]"
          },
          "metadata": {
            "needs_background": "light"
          }
        }
      ],
      "source": [
        "cnn2_history.history\n",
        "plt.plot(cnn2_history.history[\"accuracy\"])\n",
        "plt.plot(cnn2_history.history[\"val_accuracy\"])\n",
        "plt.xlabel('epoch') \n",
        "plt.ylabel('accuracy') \n",
        "plt.title('CNN Ensemble 2 Accuracy')\n",
        "ax = plt.gca()\n",
        "ax.legend(['training accuracy', 'test accuracy'])\n",
        "plt.show()\n",
        "print()\n",
        "#-----------------------------------------\n",
        "plt.plot(cnn2_history.history[\"loss\"])\n",
        "plt.plot(cnn2_history.history[\"val_loss\"])\n",
        "plt.xlabel('epoch') \n",
        "plt.ylabel('accuracy') \n",
        "plt.title('CNN Ensemble 2 Loss')\n",
        "ax = plt.gca()\n",
        "ax.legend(['training loss', 'test loss'])\n",
        "plt.show()"
      ]
    },
    {
      "cell_type": "markdown",
      "metadata": {
        "id": "mqqTnMl_S875"
      },
      "source": [
        "## Model 3: Resnet Variation 1"
      ]
    },
    {
      "cell_type": "code",
      "execution_count": null,
      "metadata": {
        "colab": {
          "base_uri": "https://localhost:8080/"
        },
        "id": "pzEpdxGNinbQ",
        "outputId": "dd225c39-4e64-4ab8-b522-0e2409041544"
      },
      "outputs": [
        {
          "output_type": "stream",
          "name": "stdout",
          "text": [
            "Model: \"model_2\"\n",
            "__________________________________________________________________________________________________\n",
            " Layer (type)                   Output Shape         Param #     Connected to                     \n",
            "==================================================================================================\n",
            " input_3 (InputLayer)           [(None, 100, 100, 3  0           []                               \n",
            "                                )]                                                                \n",
            "                                                                                                  \n",
            " conv2d_19 (Conv2D)             (None, 100, 100, 32  896         ['input_3[0][0]']                \n",
            "                                )                                                                 \n",
            "                                                                                                  \n",
            " max_pooling2d_10 (MaxPooling2D  (None, 50, 50, 32)  0           ['conv2d_19[0][0]']              \n",
            " )                                                                                                \n",
            "                                                                                                  \n",
            " conv2d_20 (Conv2D)             (None, 50, 50, 32)   9248        ['max_pooling2d_10[0][0]']       \n",
            "                                                                                                  \n",
            " max_pooling2d_11 (MaxPooling2D  (None, 25, 25, 32)  0           ['conv2d_20[0][0]']              \n",
            " )                                                                                                \n",
            "                                                                                                  \n",
            " conv2d_21 (Conv2D)             (None, 25, 25, 64)   2112        ['max_pooling2d_11[0][0]']       \n",
            "                                                                                                  \n",
            " conv2d_22 (Conv2D)             (None, 25, 25, 64)   36928       ['conv2d_21[0][0]']              \n",
            "                                                                                                  \n",
            " conv2d_23 (Conv2D)             (None, 25, 25, 32)   2080        ['conv2d_22[0][0]']              \n",
            "                                                                                                  \n",
            " add_1 (Add)                    (None, 25, 25, 32)   0           ['conv2d_23[0][0]',              \n",
            "                                                                  'max_pooling2d_11[0][0]']       \n",
            "                                                                                                  \n",
            " activation_3 (Activation)      (None, 25, 25, 32)   0           ['add_1[0][0]']                  \n",
            "                                                                                                  \n",
            " max_pooling2d_12 (MaxPooling2D  (None, 12, 12, 32)  0           ['activation_3[0][0]']           \n",
            " )                                                                                                \n",
            "                                                                                                  \n",
            " flatten_4 (Flatten)            (None, 4608)         0           ['max_pooling2d_12[0][0]']       \n",
            "                                                                                                  \n",
            " dropout_5 (Dropout)            (None, 4608)         0           ['flatten_4[0][0]']              \n",
            "                                                                                                  \n",
            " dense_9 (Dense)                (None, 256)          1179904     ['dropout_5[0][0]']              \n",
            "                                                                                                  \n",
            " activation_4 (Activation)      (None, 256)          0           ['dense_9[0][0]']                \n",
            "                                                                                                  \n",
            " dropout_6 (Dropout)            (None, 256)          0           ['activation_4[0][0]']           \n",
            "                                                                                                  \n",
            " dense_10 (Dense)               (None, 6)            1542        ['dropout_6[0][0]']              \n",
            "                                                                                                  \n",
            " activation_5 (Activation)      (None, 6)            0           ['dense_10[0][0]']               \n",
            "                                                                                                  \n",
            "==================================================================================================\n",
            "Total params: 1,232,710\n",
            "Trainable params: 1,232,710\n",
            "Non-trainable params: 0\n",
            "__________________________________________________________________________________________________\n",
            "CPU times: user 326 ms, sys: 28.9 ms, total: 355 ms\n",
            "Wall time: 1.07 s\n"
          ]
        }
      ],
      "source": [
        "%%time\n",
        "\n",
        "# now lets use the LeNet architecture with batch norm\n",
        "# We will also use ReLU where approriate and drop out \n",
        "from tensorflow.keras.layers import Add, Input\n",
        "from tensorflow.keras.layers import average, concatenate\n",
        "from tensorflow.keras.models import Model\n",
        "\n",
        "img_wh = 100\n",
        "\n",
        "input_holder = Input(shape=(img_wh, img_wh, 3))\n",
        "\n",
        "# start with a conv layer\n",
        "x = Conv2D(filters=32,\n",
        "               input_shape = (img_wh,img_wh,3),\n",
        "               kernel_size=(3,3),\n",
        "               kernel_initializer='he_uniform', \n",
        "               kernel_regularizer=keras.regularizers.l2(l2_lambda),\n",
        "               padding='same', \n",
        "               activation='relu', \n",
        "               data_format=\"channels_last\")(input_holder)\n",
        "\n",
        "x = MaxPooling2D(pool_size=(2, 2), data_format=\"channels_last\")(x)\n",
        "\n",
        "x = Conv2D(filters=32,\n",
        "               kernel_size=(3,3),\n",
        "               kernel_initializer='he_uniform', \n",
        "               kernel_regularizer=keras.regularizers.l2(l2_lambda),\n",
        "               padding='same', \n",
        "               activation='relu', \n",
        "               data_format=\"channels_last\")(x)\n",
        "\n",
        "x_split = MaxPooling2D(pool_size=(2, 2), data_format=\"channels_last\")(x)\n",
        "\n",
        "x = Conv2D(filters=64,\n",
        "               kernel_size=(1,1),\n",
        "               kernel_initializer='he_uniform', \n",
        "               kernel_regularizer=keras.regularizers.l2(l2_lambda),\n",
        "               padding='same', \n",
        "               activation='relu', \n",
        "               data_format=\"channels_last\")(x_split)\n",
        "\n",
        "x = Conv2D(filters=64,\n",
        "               kernel_size=(3,3),\n",
        "               kernel_initializer='he_uniform', \n",
        "               kernel_regularizer=keras.regularizers.l2(l2_lambda),\n",
        "               padding='same', \n",
        "               activation='relu', \n",
        "               data_format=\"channels_last\")(x)\n",
        "\n",
        "x = Conv2D(filters=32,\n",
        "               kernel_size=(1,1),\n",
        "               kernel_initializer='he_uniform', \n",
        "               kernel_regularizer=keras.regularizers.l2(l2_lambda),\n",
        "               padding='same', \n",
        "               activation='relu', \n",
        "               data_format=\"channels_last\")(x)\n",
        "\n",
        "# now add back in the split layer, x_split (residual added in)\n",
        "x = Add()([x, x_split])\n",
        "x = Activation(\"relu\")(x)\n",
        "\n",
        "x = MaxPooling2D(pool_size=(2, 2), data_format=\"channels_last\")(x)\n",
        "\n",
        "x = Flatten()(x)\n",
        "x = Dropout(0.25)(x)\n",
        "x = Dense(256)(x)\n",
        "x = Activation(\"relu\")(x)\n",
        "x = Dropout(0.5)(x)\n",
        "x = Dense(NUM_CLASSES)(x)\n",
        "x = Activation('softmax')(x)\n",
        "\n",
        "resnet = Model(inputs=input_holder,outputs=x)\n",
        "\n",
        "resnet.summary()"
      ]
    },
    {
      "cell_type": "code",
      "execution_count": null,
      "metadata": {
        "colab": {
          "base_uri": "https://localhost:8080/"
        },
        "id": "sRh9kXOLSdSg",
        "outputId": "9c1e28e4-6215-46ae-a5f9-89b517bb29de"
      },
      "outputs": [
        {
          "output_type": "stream",
          "name": "stdout",
          "text": [
            "Epoch 1/50\n",
            "32/32 [==============================] - 80s 2s/step - loss: 1.4005 - accuracy: 0.5625 - val_loss: 0.2019 - val_accuracy: 0.9600\n",
            "Epoch 2/50\n",
            "32/32 [==============================] - 71s 2s/step - loss: 0.1777 - accuracy: 0.9410 - val_loss: 0.0807 - val_accuracy: 0.9740\n",
            "Epoch 3/50\n",
            "32/32 [==============================] - 72s 2s/step - loss: 0.0994 - accuracy: 0.9672 - val_loss: 0.0453 - val_accuracy: 0.9850\n",
            "Epoch 4/50\n",
            "32/32 [==============================] - 71s 2s/step - loss: 0.0870 - accuracy: 0.9720 - val_loss: 0.0473 - val_accuracy: 0.9850\n",
            "Epoch 5/50\n",
            "32/32 [==============================] - 70s 2s/step - loss: 0.0692 - accuracy: 0.9772 - val_loss: 0.0428 - val_accuracy: 0.9840\n",
            "Epoch 6/50\n",
            "32/32 [==============================] - 69s 2s/step - loss: 0.0529 - accuracy: 0.9808 - val_loss: 0.0376 - val_accuracy: 0.9870\n",
            "Epoch 7/50\n",
            "32/32 [==============================] - 70s 2s/step - loss: 0.0647 - accuracy: 0.9797 - val_loss: 0.0378 - val_accuracy: 0.9890\n",
            "Epoch 8/50\n",
            "32/32 [==============================] - 70s 2s/step - loss: 0.0442 - accuracy: 0.9868 - val_loss: 0.0319 - val_accuracy: 0.9890\n",
            "Epoch 9/50\n",
            "32/32 [==============================] - 71s 2s/step - loss: 0.0397 - accuracy: 0.9870 - val_loss: 0.0323 - val_accuracy: 0.9870\n",
            "Epoch 10/50\n",
            "32/32 [==============================] - 74s 2s/step - loss: 0.0378 - accuracy: 0.9868 - val_loss: 0.0280 - val_accuracy: 0.9910\n",
            "Epoch 11/50\n",
            "32/32 [==============================] - 72s 2s/step - loss: 0.0293 - accuracy: 0.9900 - val_loss: 0.0209 - val_accuracy: 0.9910\n",
            "Epoch 12/50\n",
            "32/32 [==============================] - 68s 2s/step - loss: 0.0263 - accuracy: 0.9918 - val_loss: 0.0234 - val_accuracy: 0.9920\n",
            "Epoch 13/50\n",
            "32/32 [==============================] - 72s 2s/step - loss: 0.0328 - accuracy: 0.9893 - val_loss: 0.0555 - val_accuracy: 0.9820\n",
            "Epoch 14/50\n",
            "32/32 [==============================] - 69s 2s/step - loss: 0.0241 - accuracy: 0.9905 - val_loss: 0.0207 - val_accuracy: 0.9920\n",
            "Epoch 15/50\n",
            "32/32 [==============================] - 76s 2s/step - loss: 0.0188 - accuracy: 0.9937 - val_loss: 0.0176 - val_accuracy: 0.9960\n",
            "Epoch 16/50\n",
            "32/32 [==============================] - 71s 2s/step - loss: 0.0224 - accuracy: 0.9918 - val_loss: 0.0837 - val_accuracy: 0.9760\n",
            "Epoch 17/50\n",
            "32/32 [==============================] - 72s 2s/step - loss: 0.0323 - accuracy: 0.9887 - val_loss: 0.0468 - val_accuracy: 0.9870\n",
            "Epoch 18/50\n",
            "32/32 [==============================] - 72s 2s/step - loss: 0.0216 - accuracy: 0.9940 - val_loss: 0.0224 - val_accuracy: 0.9930\n",
            "CPU times: user 37min 15s, sys: 33 s, total: 37min 48s\n",
            "Wall time: 21min 31s\n"
          ]
        }
      ],
      "source": [
        "%%time\n",
        "resnet.compile(loss='categorical_crossentropy', # 'categorical_crossentropy' 'mean_squared_error'\n",
        "                optimizer='adam', # 'adadelta' 'rmsprop'\n",
        "                metrics=['accuracy'])\n",
        "\n",
        "resnet1_history = resnet.fit(X_train, y_train_ohe, batch_size=128, \n",
        "                      epochs=50, verbose=1,\n",
        "                      validation_data=(X_test,y_test_ohe),\n",
        "                      callbacks=[EarlyStopping(monitor='val_loss', patience=3, min_delta=0.0001)]\n",
        "                     )"
      ]
    },
    {
      "cell_type": "code",
      "execution_count": null,
      "metadata": {
        "id": "w_DebFUbbQBs"
      },
      "outputs": [],
      "source": [
        "del[resnet]"
      ]
    },
    {
      "cell_type": "code",
      "execution_count": null,
      "metadata": {
        "colab": {
          "base_uri": "https://localhost:8080/",
          "height": 590
        },
        "id": "6iupajjf79pU",
        "outputId": "6432c493-f7ed-4138-f771-ccddca69f018"
      },
      "outputs": [
        {
          "output_type": "display_data",
          "data": {
            "text/plain": [
              "<Figure size 432x288 with 1 Axes>"
            ],
            "image/png": "[encoded data removed]"
          },
          "metadata": {
            "needs_background": "light"
          }
        },
        {
          "output_type": "stream",
          "name": "stdout",
          "text": [
            "\n"
          ]
        },
        {
          "output_type": "display_data",
          "data": {
            "text/plain": [
              "<Figure size 432x288 with 1 Axes>"
            ],
            "image/png": "[encoded data removed]"
          },
          "metadata": {
            "needs_background": "light"
          }
        }
      ],
      "source": [
        "resnet1_history.history\n",
        "plt.plot(resnet1_history.history[\"accuracy\"])\n",
        "plt.plot(resnet1_history.history[\"val_accuracy\"]) \n",
        "plt.xlabel('epoch') \n",
        "plt.ylabel('accuracy') \n",
        "plt.title('Resnet 1 Accuracy')\n",
        "ax = plt.gca()\n",
        "ax.legend(['training accuracy', 'test accuracy'])\n",
        "plt.show()\n",
        "print()\n",
        "\n",
        "#-----------------------------------------\n",
        "plt.plot(resnet1_history.history[\"loss\"])\n",
        "plt.plot(resnet1_history.history[\"val_loss\"])\n",
        "plt.xlabel('epoch') \n",
        "plt.ylabel('accuracy') \n",
        "plt.title('Resnet 1 Loss')\n",
        "ax = plt.gca()\n",
        "ax.legend(['training loss', 'test loss'])\n",
        "plt.show()"
      ]
    },
    {
      "cell_type": "markdown",
      "metadata": {
        "id": "2OI8XgufTFB1"
      },
      "source": [
        "## Model 4: Resnet Variation 2"
      ]
    },
    {
      "cell_type": "code",
      "execution_count": null,
      "metadata": {
        "colab": {
          "base_uri": "https://localhost:8080/"
        },
        "id": "KtCqoBYhi4bI",
        "outputId": "bf53069a-a38f-4d5b-9a14-0390abfe4db6"
      },
      "outputs": [
        {
          "output_type": "stream",
          "name": "stdout",
          "text": [
            "Model: \"model_1\"\n",
            "__________________________________________________________________________________________________\n",
            " Layer (type)                   Output Shape         Param #     Connected to                     \n",
            "==================================================================================================\n",
            " input_2 (InputLayer)           [(None, 100, 100, 3  0           []                               \n",
            "                                )]                                                                \n",
            "                                                                                                  \n",
            " conv2d_14 (Conv2D)             (None, 100, 100, 32  896         ['input_2[0][0]']                \n",
            "                                )                                                                 \n",
            "                                                                                                  \n",
            " max_pooling2d_7 (MaxPooling2D)  (None, 50, 50, 32)  0           ['conv2d_14[0][0]']              \n",
            "                                                                                                  \n",
            " conv2d_15 (Conv2D)             (None, 50, 50, 32)   9248        ['max_pooling2d_7[0][0]']        \n",
            "                                                                                                  \n",
            " max_pooling2d_8 (MaxPooling2D)  (None, 25, 25, 32)  0           ['conv2d_15[0][0]']              \n",
            "                                                                                                  \n",
            " conv2d_16 (Conv2D)             (None, 25, 25, 64)   2112        ['max_pooling2d_8[0][0]']        \n",
            "                                                                                                  \n",
            " conv2d_17 (Conv2D)             (None, 25, 25, 64)   36928       ['conv2d_16[0][0]']              \n",
            "                                                                                                  \n",
            " conv2d_18 (Conv2D)             (None, 25, 25, 32)   2080        ['conv2d_17[0][0]']              \n",
            "                                                                                                  \n",
            " add (Add)                      (None, 25, 25, 32)   0           ['conv2d_18[0][0]',              \n",
            "                                                                  'max_pooling2d_8[0][0]']        \n",
            "                                                                                                  \n",
            " activation (Activation)        (None, 25, 25, 32)   0           ['add[0][0]']                    \n",
            "                                                                                                  \n",
            " max_pooling2d_9 (MaxPooling2D)  (None, 12, 12, 32)  0           ['activation[0][0]']             \n",
            "                                                                                                  \n",
            " flatten_3 (Flatten)            (None, 4608)         0           ['max_pooling2d_9[0][0]']        \n",
            "                                                                                                  \n",
            " dropout_3 (Dropout)            (None, 4608)         0           ['flatten_3[0][0]']              \n",
            "                                                                                                  \n",
            " dense_7 (Dense)                (None, 256)          1179904     ['dropout_3[0][0]']              \n",
            "                                                                                                  \n",
            " activation_1 (Activation)      (None, 256)          0           ['dense_7[0][0]']                \n",
            "                                                                                                  \n",
            " dropout_4 (Dropout)            (None, 256)          0           ['activation_1[0][0]']           \n",
            "                                                                                                  \n",
            " dense_8 (Dense)                (None, 6)            1542        ['dropout_4[0][0]']              \n",
            "                                                                                                  \n",
            " activation_2 (Activation)      (None, 6)            0           ['dense_8[0][0]']                \n",
            "                                                                                                  \n",
            "==================================================================================================\n",
            "Total params: 1,232,710\n",
            "Trainable params: 1,232,710\n",
            "Non-trainable params: 0\n",
            "__________________________________________________________________________________________________\n",
            "CPU times: user 238 ms, sys: 10.9 ms, total: 249 ms\n",
            "Wall time: 237 ms\n"
          ]
        }
      ],
      "source": [
        "%%time\n",
        "\n",
        "# now lets use the LeNet architecture with batch norm\n",
        "# We will also use ReLU where approriate and drop out \n",
        "from tensorflow.keras.layers import Add, Input\n",
        "from tensorflow.keras.layers import average, concatenate\n",
        "from tensorflow.keras.models import Model\n",
        "\n",
        "img_wh = 100\n",
        "\n",
        "input_holder = Input(shape=(img_wh, img_wh, 3))\n",
        "\n",
        "# start with a conv layer\n",
        "x = Conv2D(filters=32,\n",
        "               input_shape = (img_wh,img_wh,3),\n",
        "               kernel_size=(3,3),\n",
        "               kernel_initializer='he_uniform', \n",
        "               kernel_regularizer=keras.regularizers.l1(l1_lambda),\n",
        "               padding='same', \n",
        "               activation='relu', \n",
        "               data_format=\"channels_last\")(input_holder)\n",
        "\n",
        "x = MaxPooling2D(pool_size=(2, 2), data_format=\"channels_last\")(x)\n",
        "\n",
        "x = Conv2D(filters=32,\n",
        "               kernel_size=(3,3),\n",
        "               kernel_initializer='he_uniform', \n",
        "               kernel_regularizer=keras.regularizers.l1(l1_lambda),\n",
        "               padding='same', \n",
        "               activation='relu', \n",
        "               data_format=\"channels_last\")(x)\n",
        "\n",
        "x_split = MaxPooling2D(pool_size=(2, 2), data_format=\"channels_last\")(x)\n",
        "\n",
        "x = Conv2D(filters=64,\n",
        "               kernel_size=(1,1),\n",
        "               kernel_initializer='he_uniform', \n",
        "               kernel_regularizer=keras.regularizers.l1(l1_lambda),\n",
        "               padding='same', \n",
        "               activation='relu', \n",
        "               data_format=\"channels_last\")(x_split)\n",
        "\n",
        "x = Conv2D(filters=64,\n",
        "               kernel_size=(3,3),\n",
        "               kernel_initializer='he_uniform', \n",
        "               kernel_regularizer=keras.regularizers.l1(l1_lambda),\n",
        "               padding='same', \n",
        "               activation='relu', \n",
        "               data_format=\"channels_last\")(x)\n",
        "\n",
        "x = Conv2D(filters=32,\n",
        "               kernel_size=(1,1),\n",
        "               kernel_initializer='he_uniform', \n",
        "               kernel_regularizer=keras.regularizers.l1(l1_lambda),\n",
        "               padding='same', \n",
        "               activation='relu', \n",
        "               data_format=\"channels_last\")(x)\n",
        "\n",
        "# now add back in the split layer, x_split (residual added in)\n",
        "x = Add()([x, x_split])\n",
        "x = Activation(\"relu\")(x)\n",
        "\n",
        "x = MaxPooling2D(pool_size=(2, 2), data_format=\"channels_last\")(x)\n",
        "\n",
        "x = Flatten()(x)\n",
        "x = Dropout(0.25)(x)\n",
        "x = Dense(256)(x)\n",
        "x = Activation(\"relu\")(x)\n",
        "x = Dropout(0.5)(x)\n",
        "x = Dense(NUM_CLASSES)(x)\n",
        "x = Activation('softmax')(x)\n",
        "\n",
        "resnet = Model(inputs=input_holder,outputs=x)\n",
        "\n",
        "resnet.summary()"
      ]
    },
    {
      "cell_type": "code",
      "execution_count": null,
      "metadata": {
        "colab": {
          "base_uri": "https://localhost:8080/"
        },
        "id": "baK_817GbC6E",
        "outputId": "f249c53a-73f5-45b2-94bd-05e526df6b63"
      },
      "outputs": [
        {
          "output_type": "stream",
          "name": "stdout",
          "text": [
            "Epoch 1/50\n",
            "32/32 [==============================] - 80s 2s/step - loss: 1.3650 - accuracy: 0.5680 - val_loss: 0.3294 - val_accuracy: 0.9330\n",
            "Epoch 2/50\n",
            "32/32 [==============================] - 72s 2s/step - loss: 0.3324 - accuracy: 0.8907 - val_loss: 0.1461 - val_accuracy: 0.9670\n",
            "Epoch 3/50\n",
            "32/32 [==============================] - 71s 2s/step - loss: 0.2125 - accuracy: 0.9317 - val_loss: 0.1281 - val_accuracy: 0.9640\n",
            "Epoch 4/50\n",
            "32/32 [==============================] - 71s 2s/step - loss: 0.1576 - accuracy: 0.9572 - val_loss: 0.1097 - val_accuracy: 0.9750\n",
            "Epoch 5/50\n",
            "32/32 [==============================] - 73s 2s/step - loss: 0.1457 - accuracy: 0.9605 - val_loss: 0.0871 - val_accuracy: 0.9780\n",
            "Epoch 6/50\n",
            "32/32 [==============================] - 69s 2s/step - loss: 0.1335 - accuracy: 0.9675 - val_loss: 0.0883 - val_accuracy: 0.9800\n",
            "Epoch 7/50\n",
            "32/32 [==============================] - 72s 2s/step - loss: 0.1124 - accuracy: 0.9750 - val_loss: 0.0862 - val_accuracy: 0.9810\n",
            "Epoch 8/50\n",
            "32/32 [==============================] - 70s 2s/step - loss: 0.1154 - accuracy: 0.9697 - val_loss: 0.0809 - val_accuracy: 0.9850\n",
            "Epoch 9/50\n",
            "32/32 [==============================] - 72s 2s/step - loss: 0.1019 - accuracy: 0.9760 - val_loss: 0.0831 - val_accuracy: 0.9840\n",
            "Epoch 10/50\n",
            "32/32 [==============================] - 72s 2s/step - loss: 0.1111 - accuracy: 0.9703 - val_loss: 0.0748 - val_accuracy: 0.9850\n",
            "Epoch 11/50\n",
            "32/32 [==============================] - 71s 2s/step - loss: 0.1023 - accuracy: 0.9785 - val_loss: 0.0726 - val_accuracy: 0.9850\n",
            "Epoch 12/50\n",
            "32/32 [==============================] - 71s 2s/step - loss: 0.0926 - accuracy: 0.9803 - val_loss: 0.0786 - val_accuracy: 0.9830\n",
            "Epoch 13/50\n",
            "32/32 [==============================] - 72s 2s/step - loss: 0.0890 - accuracy: 0.9808 - val_loss: 0.0861 - val_accuracy: 0.9840\n",
            "Epoch 14/50\n",
            "32/32 [==============================] - 71s 2s/step - loss: 0.0867 - accuracy: 0.9812 - val_loss: 0.0712 - val_accuracy: 0.9880\n",
            "Epoch 15/50\n",
            "32/32 [==============================] - 71s 2s/step - loss: 0.0764 - accuracy: 0.9837 - val_loss: 0.0766 - val_accuracy: 0.9880\n",
            "Epoch 16/50\n",
            "32/32 [==============================] - 72s 2s/step - loss: 0.0694 - accuracy: 0.9858 - val_loss: 0.0658 - val_accuracy: 0.9880\n",
            "Epoch 17/50\n",
            "32/32 [==============================] - 72s 2s/step - loss: 0.0650 - accuracy: 0.9885 - val_loss: 0.0597 - val_accuracy: 0.9930\n",
            "Epoch 18/50\n",
            "32/32 [==============================] - 75s 2s/step - loss: 0.0566 - accuracy: 0.9910 - val_loss: 0.0635 - val_accuracy: 0.9920\n",
            "Epoch 19/50\n",
            "32/32 [==============================] - 70s 2s/step - loss: 0.0732 - accuracy: 0.9840 - val_loss: 0.0775 - val_accuracy: 0.9850\n",
            "Epoch 20/50\n",
            "32/32 [==============================] - 73s 2s/step - loss: 0.0627 - accuracy: 0.9885 - val_loss: 0.0614 - val_accuracy: 0.9920\n",
            "Epoch 21/50\n",
            "32/32 [==============================] - 72s 2s/step - loss: 0.0518 - accuracy: 0.9930 - val_loss: 0.0674 - val_accuracy: 0.9900\n",
            "CPU times: user 43min 52s, sys: 34.3 s, total: 44min 26s\n",
            "Wall time: 25min 12s\n"
          ]
        }
      ],
      "source": [
        "%%time\n",
        "resnet.compile(loss='categorical_crossentropy', # 'categorical_crossentropy' 'mean_squared_error'\n",
        "                optimizer='adam', # 'adadelta' 'rmsprop'\n",
        "                metrics=['accuracy'])\n",
        "\n",
        "resnet2_history = resnet.fit(X_train, y_train_ohe, batch_size=128, \n",
        "                      epochs=50, verbose=1,\n",
        "                      validation_data=(X_test,y_test_ohe),\n",
        "                      callbacks=[EarlyStopping(monitor='val_loss', patience=4, min_delta=0.0001)]\n",
        "                     )"
      ]
    },
    {
      "cell_type": "code",
      "execution_count": null,
      "metadata": {
        "id": "zN93cOpMboHA"
      },
      "outputs": [],
      "source": [
        "del[resnet]"
      ]
    },
    {
      "cell_type": "code",
      "execution_count": null,
      "metadata": {
        "colab": {
          "base_uri": "https://localhost:8080/",
          "height": 590
        },
        "id": "3b6R3j9obcw0",
        "outputId": "b6a49d9d-8dd9-4c25-f213-e4ec6de244db"
      },
      "outputs": [
        {
          "output_type": "display_data",
          "data": {
            "text/plain": [
              "<Figure size 432x288 with 1 Axes>"
            ],
            "image/png": "[encoded data removed]"
          },
          "metadata": {
            "needs_background": "light"
          }
        },
        {
          "output_type": "stream",
          "name": "stdout",
          "text": [
            "\n"
          ]
        },
        {
          "output_type": "display_data",
          "data": {
            "text/plain": [
              "<Figure size 432x288 with 1 Axes>"
            ],
            "image/png": "[encoded data removed]"
          },
          "metadata": {
            "needs_background": "light"
          }
        }
      ],
      "source": [
        "resnet2_history.history\n",
        "plt.plot(resnet2_history.history[\"accuracy\"])\n",
        "plt.plot(resnet2_history.history[\"val_accuracy\"]) \n",
        "plt.xlabel('epoch')\n",
        "plt.ylabel('accuracy')\n",
        "plt.title('Resnet 2 Accuracy')\n",
        "ax = plt.gca()\n",
        "ax.legend(['training accuracy', 'test accuracy'])\n",
        "plt.show()\n",
        "print()\n",
        "\n",
        "#-----------------------------------------\n",
        "plt.plot(resnet2_history.history[\"loss\"])\n",
        "plt.plot(resnet2_history.history[\"val_loss\"])\n",
        "plt.xlabel('epoch')\n",
        "plt.ylabel('accuracy')\n",
        "plt.title('Resnet 2 Loss')\n",
        "ax = plt.gca()\n",
        "ax.legend(['training loss', 'test loss'])\n",
        "plt.show()"
      ]
    },
    {
      "cell_type": "markdown",
      "source": [
        "## CNN Interpretations and Comparisons\n",
        "### Ensemble 1 vs Ensemble 2(L2 vs L1):\n",
        "Ensemble learning generally involves training multiple networks on the same dataset, making a prediction within each network and combining them for a final outcome. This helps to reduce variance as well as resulting in a better prediction. Ensemble 1 uses L2 regularization whereas Ensemble 2 uses L1 regularization. The Ensemble 1 model using L2 regularization reaches its peak accuracy of 99.8% at epoch 16 whereas Ensemble 2 using L1 regularization reaches its peak of 98.4% at epoch 11. We also notice that Ensemble 2’s data appears more sparse which aligns with the fact that L1 regularization results in sparser data as it shrinks parameters to 0 while Ensemble 1’s L2 regularization shrinks parameters near 0 but not to 0 resulting in results that are not sparse. Although Ensemble 1 has a 1.4% advantage in accuracy, Ensemble 2 is preferred in this scenario as accuracies of over 70% would already be sufficient and the time saved from running 11 epochs as opposed to 16 is valuable.\n",
        "\n",
        "### Ensemble 1 vs Resnet1:\n",
        "As we can see in the tables for CNN Ensemble 1, peak test accuracy was reached at 99.8% at epoch 16 whereas for Resnet 1, peak test accuracy of 99.6% at epoch 15. CNN Ensemble 1 with L2 regularization and without Resnet has a slightly higher peak accuracy while Resnet 1 has a slightly quicker rate to reach max accuracy at 15 epochs compared to 16. As stated before due to the nature of this particular dataset, the added 0.2% increase in accuracy with Ensemble 1 is not needed while the improvement of 1 epoch for Resnet 1 to reach its maximum accuracy in this case is more valuable and sufficient for this scenario.\n",
        "\n",
        "### Ensemble 2 vs Resnet2:\n",
        "The CNN model Ensemble 2 using L1 regularization reaches its peak of 98.4% at epoch 11 while Resnet 2 reached a peak accuracy of 99.3% at epoch 17. As stated before, we prefer CNN Ensemble 2 in this scenario due to a preference for efficiency along with a reasonably high accuracy rate. However, other scenarios with much higher definition and complex images are more likely to prefer Resnet 2 especially in cases where it is difficult to train a model. The reason higher definition and complex images are likely to benefit more from Resnet 2 is because Resnet is designed to prevent the issue of vanishing gradient by skipping layers that are likely to increase error rates.\n",
        "\n",
        "### Resnet 1 vs Resnet 2:\n",
        "Resnet 1 reached a peak accuracy of 99.6% at 15 epochs while Resnet 2 reached its peak acurracy of 99.3% at epoch 17. In this case Resnet 1 has both a higher peak accuracy as well as a faster rate in reaching its peak."
      ],
      "metadata": {
        "id": "p7qJc_rcNvSK"
      }
    },
    {
      "cell_type": "markdown",
      "source": [
        "### Best Fit Model\n",
        "The CNN model Ensemble 2 which uses L1 regularization is the best model for this particular scenario as the model that provides the fastest rate at reaching its peak accuracy while still resulting in a high accuracy rate of 98.4%. Despite its peak accuracy being slightly lower than a few other CNN models, it is more than sufficient in being effective at predicting the 5 different types of rice in our dataset. The efficiency of this model can save time and potentially money which can be a helpful tool to businesses in the agriculture industry."
      ],
      "metadata": {
        "id": "9UzQZl9NUfqu"
      }
    },
    {
      "cell_type": "markdown",
      "source": [
        "### MLP Adaptation"
      ],
      "metadata": {
        "id": "jNO-QhgVNipD"
      }
    },
    {
      "cell_type": "code",
      "execution_count": null,
      "metadata": {
        "colab": {
          "base_uri": "https://localhost:8080/"
        },
        "id": "GRSS14niNLEh",
        "outputId": "ac44d1b2-427d-4d66-ffe2-412da7ab7d39"
      },
      "outputs": [
        {
          "output_type": "stream",
          "name": "stdout",
          "text": [
            "Epoch 1/50\n",
            "32/32 [==============================] - 35s 1s/step - loss: 19.2112 - accuracy: 0.3273 - val_loss: 1.8729 - val_accuracy: 0.3860\n",
            "Epoch 2/50\n",
            "32/32 [==============================] - 38s 1s/step - loss: 0.6155 - accuracy: 0.7600 - val_loss: 0.3298 - val_accuracy: 0.8810\n",
            "Epoch 3/50\n",
            "32/32 [==============================] - 32s 1s/step - loss: 0.2374 - accuracy: 0.9285 - val_loss: 0.2063 - val_accuracy: 0.9400\n",
            "Epoch 4/50\n",
            "32/32 [==============================] - 36s 1s/step - loss: 0.1581 - accuracy: 0.9505 - val_loss: 0.1330 - val_accuracy: 0.9600\n",
            "Epoch 5/50\n",
            "32/32 [==============================] - 32s 999ms/step - loss: 0.1043 - accuracy: 0.9682 - val_loss: 0.0985 - val_accuracy: 0.9720\n",
            "Epoch 6/50\n",
            "32/32 [==============================] - 32s 997ms/step - loss: 0.0921 - accuracy: 0.9665 - val_loss: 0.0855 - val_accuracy: 0.9750\n",
            "Epoch 7/50\n",
            "32/32 [==============================] - 32s 999ms/step - loss: 0.0785 - accuracy: 0.9755 - val_loss: 0.2539 - val_accuracy: 0.8920\n",
            "Epoch 8/50\n",
            "32/32 [==============================] - 36s 1s/step - loss: 0.1030 - accuracy: 0.9600 - val_loss: 0.1121 - val_accuracy: 0.9620\n",
            "Epoch 9/50\n",
            "32/32 [==============================] - 32s 1s/step - loss: 0.0646 - accuracy: 0.9790 - val_loss: 0.0601 - val_accuracy: 0.9780\n",
            "Epoch 10/50\n",
            "32/32 [==============================] - 36s 1s/step - loss: 0.0842 - accuracy: 0.9688 - val_loss: 0.1400 - val_accuracy: 0.9500\n",
            "Epoch 11/50\n",
            "32/32 [==============================] - 30s 949ms/step - loss: 0.0581 - accuracy: 0.9797 - val_loss: 0.0614 - val_accuracy: 0.9790\n",
            "Epoch 12/50\n",
            "32/32 [==============================] - 30s 950ms/step - loss: 0.0366 - accuracy: 0.9875 - val_loss: 0.0513 - val_accuracy: 0.9820\n",
            "Epoch 13/50\n",
            "32/32 [==============================] - 30s 950ms/step - loss: 0.1092 - accuracy: 0.9590 - val_loss: 0.0687 - val_accuracy: 0.9750\n",
            "Epoch 14/50\n",
            "32/32 [==============================] - 34s 1s/step - loss: 0.0483 - accuracy: 0.9843 - val_loss: 0.0583 - val_accuracy: 0.9800\n",
            "Epoch 15/50\n",
            "32/32 [==============================] - 31s 981ms/step - loss: 0.0539 - accuracy: 0.9805 - val_loss: 0.0497 - val_accuracy: 0.9810\n",
            "Epoch 16/50\n",
            "32/32 [==============================] - 36s 1s/step - loss: 0.0364 - accuracy: 0.9887 - val_loss: 0.0425 - val_accuracy: 0.9860\n",
            "Epoch 17/50\n",
            "32/32 [==============================] - 31s 969ms/step - loss: 0.0395 - accuracy: 0.9855 - val_loss: 0.0502 - val_accuracy: 0.9850\n",
            "Epoch 18/50\n",
            "32/32 [==============================] - 31s 978ms/step - loss: 0.0374 - accuracy: 0.9852 - val_loss: 0.1327 - val_accuracy: 0.9530\n",
            "Epoch 19/50\n",
            "32/32 [==============================] - 31s 969ms/step - loss: 0.0396 - accuracy: 0.9858 - val_loss: 0.0736 - val_accuracy: 0.9730\n",
            "Epoch 20/50\n",
            "32/32 [==============================] - 31s 979ms/step - loss: 0.0411 - accuracy: 0.9825 - val_loss: 0.0521 - val_accuracy: 0.9840\n",
            "CPU times: user 19min 53s, sys: 8.84 s, total: 20min 2s\n",
            "Wall time: 10min 59s\n"
          ]
        }
      ],
      "source": [
        "%%time\n",
        "model = Sequential()\n",
        "model.add(Flatten())\n",
        "model.add(Dense(input_dim = 1000, units = 2500, activation='relu'))\n",
        "model.add(Dense(500, activation='relu'))\n",
        "model.add(Dense(250, activation='relu'))\n",
        "model.add(Dense(6, activation='softmax'))\n",
        "\n",
        "# Configure the model and start training\n",
        "model.compile(loss='categorical_crossentropy', optimizer='adam', metrics=['accuracy'])\n",
        "mlphistory = model.fit(X_train, y_train_ohe, batch_size=128, \n",
        "                      epochs=50, verbose=1,\n",
        "                      validation_data=(X_test,y_test_ohe),\n",
        "                      callbacks=[EarlyStopping(monitor='val_loss', patience=4, min_delta=0.0001)]\n",
        "                     )"
      ]
    },
    {
      "cell_type": "code",
      "execution_count": null,
      "metadata": {
        "colab": {
          "base_uri": "https://localhost:8080/",
          "height": 590
        },
        "id": "sXQh6wJNX_9L",
        "outputId": "08af33ea-339c-4bcf-e86e-17893b40a608"
      },
      "outputs": [
        {
          "output_type": "display_data",
          "data": {
            "text/plain": [
              "<Figure size 432x288 with 1 Axes>"
            ],
            "image/png": "[encoded data removed]"
          },
          "metadata": {
            "needs_background": "light"
          }
        },
        {
          "output_type": "stream",
          "name": "stdout",
          "text": [
            "\n"
          ]
        },
        {
          "output_type": "display_data",
          "data": {
            "text/plain": [
              "<Figure size 432x288 with 1 Axes>"
            ],
            "image/png": "[encoded data removed]"
          },
          "metadata": {
            "needs_background": "light"
          }
        }
      ],
      "source": [
        "mlphistory.history\n",
        "plt.plot(mlphistory.history[\"accuracy\"])\n",
        "plt.plot(mlphistory.history[\"val_accuracy\"]) \n",
        "plt.xlabel('epoch') \n",
        "plt.ylabel('accuracy') \n",
        "plt.title('MLP Accuracy') \n",
        "ax = plt.gca()\n",
        "ax.legend(['training accuracy', 'test accuracy'])\n",
        "plt.show()\n",
        "print()\n",
        "\n",
        "#-----------------------------------------\n",
        "plt.plot(mlphistory.history[\"loss\"])\n",
        "plt.plot(mlphistory.history[\"val_loss\"])\n",
        "plt.xlabel('epoch') \n",
        "plt.ylabel('accuracy') \n",
        "plt.title('MLP Loss')\n",
        "ax = plt.gca()\n",
        "ax.legend(['training loss', 'test loss'])\n",
        "plt.show()"
      ]
    },
    {
      "cell_type": "markdown",
      "metadata": {
        "id": "PAGA-icMNCZs"
      },
      "source": [
        "### MLP vs CNN Comparisons\n",
        "We will now compare our chosen best fit CNN model (CNN Ensemble 2) with an MLP model. As stated before, Ensemble 2 reached a peak accuracy of 98.4% at epoch 11. On the other hand, MLP reached a peak accuracy level of 98.6% at epoch 16. Although the MLP is slightly more accurate, it is also much slower and less efficient at reaching its peak accuracy. Also it is important to note that CNN are more effective at processing complex images due to their ability to understand spatial relation, whereas MLP is effective for simple images, which is likely why we see such a high accuracy rate for this dataset.\n",
        "\n",
        "Reference: https://www.linkedin.com/pulse/mlp-vs-cnn-rnn-deep-learning-machine-model-momen-negm/\n"
      ]
    },
    {
      "cell_type": "markdown",
      "metadata": {
        "id": "VzN9uHQZu7DO"
      },
      "source": [
        "## Transfer Learning with Resnet"
      ]
    },
    {
      "cell_type": "code",
      "execution_count": null,
      "metadata": {
        "id": "0doXE4xt2laJ"
      },
      "outputs": [],
      "source": [
        "# connect new layers to the output\n",
        "from tensorflow.keras.applications.resnet50 import ResNet50\n",
        "from tensorflow.keras.applications.resnet50 import preprocess_input, decode_predictions"
      ]
    },
    {
      "cell_type": "code",
      "execution_count": null,
      "metadata": {
        "id": "1kAMunjlveqa",
        "colab": {
          "base_uri": "https://localhost:8080/"
        },
        "outputId": "355f5326-baa2-4f47-ab1a-2fcb3db984d1"
      },
      "outputs": [
        {
          "output_type": "stream",
          "name": "stdout",
          "text": [
            "Epoch 1/20\n",
            "32/32 [==============================] - 12s 330ms/step - loss: 7.8711 - accuracy: 0.4420 - val_loss: 0.7758 - val_accuracy: 0.6480\n",
            "Epoch 2/20\n",
            "32/32 [==============================] - 8s 248ms/step - loss: 0.4311 - accuracy: 0.8100 - val_loss: 0.2069 - val_accuracy: 0.9380\n",
            "Epoch 3/20\n",
            "32/32 [==============================] - 9s 271ms/step - loss: 0.1348 - accuracy: 0.9635 - val_loss: 0.1515 - val_accuracy: 0.9500\n",
            "Epoch 4/20\n",
            "32/32 [==============================] - 8s 253ms/step - loss: 0.1007 - accuracy: 0.9778 - val_loss: 0.1365 - val_accuracy: 0.9520\n",
            "Epoch 5/20\n",
            "32/32 [==============================] - 7s 212ms/step - loss: 0.0971 - accuracy: 0.9730 - val_loss: 0.1156 - val_accuracy: 0.9620\n",
            "Epoch 6/20\n",
            "32/32 [==============================] - 7s 212ms/step - loss: 0.0818 - accuracy: 0.9750 - val_loss: 0.0936 - val_accuracy: 0.9700\n",
            "Epoch 7/20\n",
            "32/32 [==============================] - 7s 212ms/step - loss: 0.0686 - accuracy: 0.9820 - val_loss: 0.0985 - val_accuracy: 0.9740\n",
            "Epoch 8/20\n",
            "32/32 [==============================] - 7s 212ms/step - loss: 0.0675 - accuracy: 0.9810 - val_loss: 0.1033 - val_accuracy: 0.9740\n",
            "Epoch 9/20\n",
            "32/32 [==============================] - 8s 238ms/step - loss: 0.0687 - accuracy: 0.9780 - val_loss: 0.0836 - val_accuracy: 0.9780\n",
            "Epoch 10/20\n",
            "32/32 [==============================] - 7s 215ms/step - loss: 0.0545 - accuracy: 0.9852 - val_loss: 0.0774 - val_accuracy: 0.9800\n",
            "Epoch 11/20\n",
            "32/32 [==============================] - 7s 223ms/step - loss: 0.0607 - accuracy: 0.9800 - val_loss: 0.1106 - val_accuracy: 0.9740\n",
            "Epoch 12/20\n",
            "32/32 [==============================] - 7s 212ms/step - loss: 0.0970 - accuracy: 0.9678 - val_loss: 0.1118 - val_accuracy: 0.9650\n",
            "Epoch 13/20\n",
            "32/32 [==============================] - 7s 214ms/step - loss: 0.0859 - accuracy: 0.9688 - val_loss: 0.0611 - val_accuracy: 0.9810\n",
            "Epoch 14/20\n",
            "32/32 [==============================] - 7s 213ms/step - loss: 0.0596 - accuracy: 0.9795 - val_loss: 0.0601 - val_accuracy: 0.9820\n",
            "Epoch 15/20\n",
            "32/32 [==============================] - 7s 231ms/step - loss: 0.0402 - accuracy: 0.9870 - val_loss: 0.0750 - val_accuracy: 0.9740\n",
            "Epoch 16/20\n",
            "32/32 [==============================] - 7s 213ms/step - loss: 0.0551 - accuracy: 0.9790 - val_loss: 0.1346 - val_accuracy: 0.9530\n",
            "Epoch 17/20\n",
            "32/32 [==============================] - 7s 213ms/step - loss: 0.0461 - accuracy: 0.9833 - val_loss: 0.0645 - val_accuracy: 0.9770\n",
            "Epoch 18/20\n",
            "32/32 [==============================] - 7s 211ms/step - loss: 0.0449 - accuracy: 0.9858 - val_loss: 0.0791 - val_accuracy: 0.9730\n",
            "CPU times: user 3min 50s, sys: 2.82 s, total: 3min 53s\n",
            "Wall time: 2min 18s\n"
          ]
        }
      ],
      "source": [
        "%%time\n",
        "resTransferModel = Sequential()\n",
        "preTrans = ResNet50(include_top = False, classes = 6, weights='imagenet')\n",
        "resTransferModel.add(Flatten())\n",
        "resTransferModel.add(Dense(500, activation='relu'))\n",
        "resTransferModel.add(Dense(250, activation='relu'))\n",
        "resTransferModel.add(Dense(6, activation='softmax'))\n",
        "\n",
        "# Configure the resTransferModel and start training\n",
        "resTransferModel.compile(loss='categorical_crossentropy', optimizer='adam', metrics=['accuracy'])\n",
        "resTransferHistory = resTransferModel.fit(X_train, y_train_ohe, batch_size=128, \n",
        "                      epochs=20, verbose=1,\n",
        "                      validation_data=(X_test,y_test_ohe),\n",
        "                      callbacks=[EarlyStopping(monitor='val_loss', patience=4, min_delta=0.0001)] # 13 epochs last time\n",
        "                     )"
      ]
    },
    {
      "cell_type": "code",
      "source": [
        "resTransferHistory.history\n",
        "plt.plot(resTransferHistory.history[\"accuracy\"])\n",
        "plt.plot(resTransferHistory.history[\"val_accuracy\"]) \n",
        "plt.xlabel('epoch') \n",
        "plt.ylabel('accuracy') \n",
        "plt.title('Transfer Learning Resnet Accuracy')\n",
        "ax = plt.gca()\n",
        "ax.legend(['training accuracy', 'test accuracy'])\n",
        "plt.show()\n",
        "print()\n",
        "\n",
        "#-----------------------------------------\n",
        "plt.plot(resTransferHistory.history[\"loss\"])\n",
        "plt.plot(resTransferHistory.history[\"val_loss\"])\n",
        "plt.xlabel('epoch') \n",
        "plt.ylabel('accuracy') \n",
        "plt.title('Transfer Learning Resnet  Loss')\n",
        "ax = plt.gca()\n",
        "ax.legend(['training loss', 'test loss'])\n",
        "plt.show()"
      ],
      "metadata": {
        "colab": {
          "base_uri": "https://localhost:8080/",
          "height": 590
        },
        "id": "5P0eRN9LVEyT",
        "outputId": "a79790e8-f577-4642-ee26-1f1f985cd7bb"
      },
      "execution_count": null,
      "outputs": [
        {
          "output_type": "display_data",
          "data": {
            "text/plain": [
              "<Figure size 432x288 with 1 Axes>"
            ],
            "image/png": "[encoded data removed]"
          },
          "metadata": {
            "needs_background": "light"
          }
        },
        {
          "output_type": "stream",
          "name": "stdout",
          "text": [
            "\n"
          ]
        },
        {
          "output_type": "display_data",
          "data": {
            "text/plain": [
              "<Figure size 432x288 with 1 Axes>"
            ],
            "image/png": "[encoded data removed]"
          },
          "metadata": {
            "needs_background": "light"
          }
        }
      ]
    },
    {
      "cell_type": "markdown",
      "source": [
        "### Best CNN vs Transfer Learning\n",
        "Our best CNN model, Ensemble 1, produced a peak accuracy rate of 98.4% at epoch 11 while our Transfer Learning Resnet model produced a peak accuracy of 98.2% at epoch 14. However, the actual running time for Ensemble 1 was 1 hour and 10 minutes whereas our Transfer Learning model only took 3 minutes and 53 seconds. The lower epochs from our Ensemble 1 model could mean that there is less of a chance of overfitting however because we have Early Stopping applied to all our models as a preventative, the time efficiency along with a high accuracy of 98.2% would put our Transfer Learning model as the most preferred deep learning model for our dataset."
      ],
      "metadata": {
        "id": "Iq5D11MESSNA"
      }
    },
    {
      "cell_type": "code",
      "source": [
        "%%shell\n",
        "jupyter nbconvert --to html /content/Lab6.ipynb"
      ],
      "metadata": {
        "colab": {
          "base_uri": "https://localhost:8080/"
        },
        "id": "ucyqtzPXwGgT",
        "outputId": "62dcf327-cfcc-4671-93c4-403faa34ab09"
      },
      "execution_count": null,
      "outputs": [
        {
          "output_type": "stream",
          "name": "stdout",
          "text": [
            "[NbConvertApp] Converting notebook /content/Lab6.ipynb to html\n",
            "[NbConvertApp] Writing 784755 bytes to /content/Lab6.html\n"
          ]
        },
        {
          "output_type": "execute_result",
          "data": {
            "text/plain": []
          },
          "metadata": {},
          "execution_count": 34
        }
      ]
    }
  ],
  "metadata": {
    "colab": {
      "provenance": [],
      "mount_file_id": "1obK1yhLOgqM-fBD8Z0cUhye4LN8Mhgej",
      "authorship_tag": "ABX9TyMDiWmNau02FbzLJqT9Z3Rs",
      "include_colab_link": true
    },
    "kernelspec": {
      "display_name": "Python 3",
      "name": "python3"
    },
    "language_info": {
      "name": "python"
    }
  },
  "nbformat": 4,
  "nbformat_minor": 0
}